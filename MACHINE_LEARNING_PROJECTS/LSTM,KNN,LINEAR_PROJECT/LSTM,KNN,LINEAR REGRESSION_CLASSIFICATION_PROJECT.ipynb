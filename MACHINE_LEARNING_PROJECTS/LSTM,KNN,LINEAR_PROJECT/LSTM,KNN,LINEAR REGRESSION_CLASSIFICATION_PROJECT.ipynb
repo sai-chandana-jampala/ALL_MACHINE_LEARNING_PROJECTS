{
  "nbformat": 4,
  "nbformat_minor": 0,
  "metadata": {
    "colab": {
      "provenance": []
    },
    "kernelspec": {
      "name": "python3",
      "display_name": "Python 3"
    },
    "language_info": {
      "name": "python"
    }
  },
  "cells": [
    {
      "cell_type": "code",
      "execution_count": 2,
      "metadata": {
        "id": "HzY8imCzP0iq",
        "colab": {
          "base_uri": "https://localhost:8080/"
        },
        "outputId": "91022366-8025-498f-f446-04cf4c20826d"
      },
      "outputs": [
        {
          "output_type": "stream",
          "name": "stdout",
          "text": [
            "Looking in indexes: https://pypi.org/simple, https://us-python.pkg.dev/colab-wheels/public/simple/\n",
            "Collecting yfinance\n",
            "  Downloading yfinance-0.2.9-py2.py3-none-any.whl (55 kB)\n",
            "\u001b[2K     \u001b[90m━━━━━━━━━━━━━━━━━━━━━━━━━━━━━━━━━━━━━━━━\u001b[0m \u001b[32m55.9/55.9 KB\u001b[0m \u001b[31m2.3 MB/s\u001b[0m eta \u001b[36m0:00:00\u001b[0m\n",
            "\u001b[?25hCollecting html5lib>=1.1\n",
            "  Downloading html5lib-1.1-py2.py3-none-any.whl (112 kB)\n",
            "\u001b[2K     \u001b[90m━━━━━━━━━━━━━━━━━━━━━━━━━━━━━━━━━━━━━━━\u001b[0m \u001b[32m112.2/112.2 KB\u001b[0m \u001b[31m7.1 MB/s\u001b[0m eta \u001b[36m0:00:00\u001b[0m\n",
            "\u001b[?25hRequirement already satisfied: multitasking>=0.0.7 in /usr/local/lib/python3.8/dist-packages (from yfinance) (0.0.11)\n",
            "Requirement already satisfied: appdirs>=1.4.4 in /usr/local/lib/python3.8/dist-packages (from yfinance) (1.4.4)\n",
            "Collecting frozendict>=2.3.4\n",
            "  Downloading frozendict-2.3.4-cp38-cp38-manylinux_2_17_x86_64.manylinux2014_x86_64.whl (110 kB)\n",
            "\u001b[2K     \u001b[90m━━━━━━━━━━━━━━━━━━━━━━━━━━━━━━━━━━━━━━━\u001b[0m \u001b[32m111.0/111.0 KB\u001b[0m \u001b[31m6.9 MB/s\u001b[0m eta \u001b[36m0:00:00\u001b[0m\n",
            "\u001b[?25hRequirement already satisfied: lxml>=4.9.1 in /usr/local/lib/python3.8/dist-packages (from yfinance) (4.9.2)\n",
            "Requirement already satisfied: pandas>=1.3.0 in /usr/local/lib/python3.8/dist-packages (from yfinance) (1.3.5)\n",
            "Collecting requests>=2.26\n",
            "  Downloading requests-2.28.2-py3-none-any.whl (62 kB)\n",
            "\u001b[2K     \u001b[90m━━━━━━━━━━━━━━━━━━━━━━━━━━━━━━━━━━━━━━━━\u001b[0m \u001b[32m62.8/62.8 KB\u001b[0m \u001b[31m7.1 MB/s\u001b[0m eta \u001b[36m0:00:00\u001b[0m\n",
            "\u001b[?25hRequirement already satisfied: pytz>=2022.5 in /usr/local/lib/python3.8/dist-packages (from yfinance) (2022.7)\n",
            "Collecting beautifulsoup4>=4.11.1\n",
            "  Downloading beautifulsoup4-4.11.1-py3-none-any.whl (128 kB)\n",
            "\u001b[2K     \u001b[90m━━━━━━━━━━━━━━━━━━━━━━━━━━━━━━━━━━━━━━\u001b[0m \u001b[32m128.2/128.2 KB\u001b[0m \u001b[31m11.9 MB/s\u001b[0m eta \u001b[36m0:00:00\u001b[0m\n",
            "\u001b[?25hCollecting cryptography>=3.3.2\n",
            "  Downloading cryptography-39.0.0-cp36-abi3-manylinux_2_28_x86_64.whl (4.2 MB)\n",
            "\u001b[2K     \u001b[90m━━━━━━━━━━━━━━━━━━━━━━━━━━━━━━━━━━━━━━━━\u001b[0m \u001b[32m4.2/4.2 MB\u001b[0m \u001b[31m21.6 MB/s\u001b[0m eta \u001b[36m0:00:00\u001b[0m\n",
            "\u001b[?25hRequirement already satisfied: numpy>=1.16.5 in /usr/local/lib/python3.8/dist-packages (from yfinance) (1.21.6)\n",
            "Collecting soupsieve>1.2\n",
            "  Downloading soupsieve-2.3.2.post1-py3-none-any.whl (37 kB)\n",
            "Requirement already satisfied: cffi>=1.12 in /usr/local/lib/python3.8/dist-packages (from cryptography>=3.3.2->yfinance) (1.15.1)\n",
            "Requirement already satisfied: six>=1.9 in /usr/local/lib/python3.8/dist-packages (from html5lib>=1.1->yfinance) (1.15.0)\n",
            "Requirement already satisfied: webencodings in /usr/local/lib/python3.8/dist-packages (from html5lib>=1.1->yfinance) (0.5.1)\n",
            "Requirement already satisfied: python-dateutil>=2.7.3 in /usr/local/lib/python3.8/dist-packages (from pandas>=1.3.0->yfinance) (2.8.2)\n",
            "Requirement already satisfied: certifi>=2017.4.17 in /usr/local/lib/python3.8/dist-packages (from requests>=2.26->yfinance) (2022.12.7)\n",
            "Requirement already satisfied: charset-normalizer<4,>=2 in /usr/local/lib/python3.8/dist-packages (from requests>=2.26->yfinance) (2.1.1)\n",
            "Requirement already satisfied: urllib3<1.27,>=1.21.1 in /usr/local/lib/python3.8/dist-packages (from requests>=2.26->yfinance) (1.24.3)\n",
            "Requirement already satisfied: idna<4,>=2.5 in /usr/local/lib/python3.8/dist-packages (from requests>=2.26->yfinance) (2.10)\n",
            "Requirement already satisfied: pycparser in /usr/local/lib/python3.8/dist-packages (from cffi>=1.12->cryptography>=3.3.2->yfinance) (2.21)\n",
            "Installing collected packages: soupsieve, requests, html5lib, frozendict, cryptography, beautifulsoup4, yfinance\n",
            "  Attempting uninstall: requests\n",
            "    Found existing installation: requests 2.25.1\n",
            "    Uninstalling requests-2.25.1:\n",
            "      Successfully uninstalled requests-2.25.1\n",
            "  Attempting uninstall: html5lib\n",
            "    Found existing installation: html5lib 1.0.1\n",
            "    Uninstalling html5lib-1.0.1:\n",
            "      Successfully uninstalled html5lib-1.0.1\n",
            "  Attempting uninstall: beautifulsoup4\n",
            "    Found existing installation: beautifulsoup4 4.6.3\n",
            "    Uninstalling beautifulsoup4-4.6.3:\n",
            "      Successfully uninstalled beautifulsoup4-4.6.3\n",
            "Successfully installed beautifulsoup4-4.11.1 cryptography-39.0.0 frozendict-2.3.4 html5lib-1.1 requests-2.28.2 soupsieve-2.3.2.post1 yfinance-0.2.9\n"
          ]
        }
      ],
      "source": [
        "pip install yfinance\n"
      ]
    },
    {
      "cell_type": "markdown",
      "source": [
        "Long Short-Term Memory (LSTM)\n"
      ],
      "metadata": {
        "id": "n5sj2FfTMu_m"
      }
    },
    {
      "cell_type": "code",
      "source": [
        "#Importing all necessary libraries\n",
        "import math\n",
        "import yfinance as yf\n",
        "import numpy as np\n",
        "import pandas as pd\n",
        "from sklearn.preprocessing import MinMaxScaler \n",
        "from sklearn.model_selection  import train_test_split\n",
        "import matplotlib.pyplot as plt\n",
        "import tensorflow as tf\n",
        "from tensorflow import keras\n",
        "from tensorflow.keras import layers"
      ],
      "metadata": {
        "id": "JjoofEhpP__h"
      },
      "execution_count": 69,
      "outputs": []
    },
    {
      "cell_type": "code",
      "source": [
        "#Acquiring stock data from yFinance\n",
        "stock_data = yf.download('^NSEI', start='2020-01-01', end='2023-01-01')\n",
        "stock_data.head()"
      ],
      "metadata": {
        "colab": {
          "base_uri": "https://localhost:8080/",
          "height": 405
        },
        "id": "krz5PKbJQWaF",
        "outputId": "a11d13ba-458d-4d61-969b-0c1ea224d544"
      },
      "execution_count": 4,
      "outputs": [
        {
          "output_type": "stream",
          "name": "stdout",
          "text": [
            "\r[*********************100%***********************]  1 of 1 completed\n"
          ]
        },
        {
          "output_type": "execute_result",
          "data": {
            "text/plain": [
              "                                   Open          High           Low  \\\n",
              "Date                                                                  \n",
              "2020-01-01 00:00:00+05:30  12202.150391  12222.200195  12165.299805   \n",
              "2020-01-02 00:00:00+05:30  12198.549805  12289.900391  12195.250000   \n",
              "2020-01-03 00:00:00+05:30  12261.099609  12265.599609  12191.349609   \n",
              "2020-01-06 00:00:00+05:30  12170.599609  12179.099609  11974.200195   \n",
              "2020-01-07 00:00:00+05:30  12079.099609  12152.150391  12005.349609   \n",
              "\n",
              "                                  Close     Adj Close  Volume  \n",
              "Date                                                           \n",
              "2020-01-01 00:00:00+05:30  12182.500000  12182.500000  304100  \n",
              "2020-01-02 00:00:00+05:30  12282.200195  12282.200195  407700  \n",
              "2020-01-03 00:00:00+05:30  12226.650391  12226.650391  428800  \n",
              "2020-01-06 00:00:00+05:30  11993.049805  11993.049805  396500  \n",
              "2020-01-07 00:00:00+05:30  12052.950195  12052.950195  447800  "
            ],
            "text/html": [
              "\n",
              "  <div id=\"df-aa325f64-ba4e-4937-b76f-4c0cb4778b48\">\n",
              "    <div class=\"colab-df-container\">\n",
              "      <div>\n",
              "<style scoped>\n",
              "    .dataframe tbody tr th:only-of-type {\n",
              "        vertical-align: middle;\n",
              "    }\n",
              "\n",
              "    .dataframe tbody tr th {\n",
              "        vertical-align: top;\n",
              "    }\n",
              "\n",
              "    .dataframe thead th {\n",
              "        text-align: right;\n",
              "    }\n",
              "</style>\n",
              "<table border=\"1\" class=\"dataframe\">\n",
              "  <thead>\n",
              "    <tr style=\"text-align: right;\">\n",
              "      <th></th>\n",
              "      <th>Open</th>\n",
              "      <th>High</th>\n",
              "      <th>Low</th>\n",
              "      <th>Close</th>\n",
              "      <th>Adj Close</th>\n",
              "      <th>Volume</th>\n",
              "    </tr>\n",
              "    <tr>\n",
              "      <th>Date</th>\n",
              "      <th></th>\n",
              "      <th></th>\n",
              "      <th></th>\n",
              "      <th></th>\n",
              "      <th></th>\n",
              "      <th></th>\n",
              "    </tr>\n",
              "  </thead>\n",
              "  <tbody>\n",
              "    <tr>\n",
              "      <th>2020-01-01 00:00:00+05:30</th>\n",
              "      <td>12202.150391</td>\n",
              "      <td>12222.200195</td>\n",
              "      <td>12165.299805</td>\n",
              "      <td>12182.500000</td>\n",
              "      <td>12182.500000</td>\n",
              "      <td>304100</td>\n",
              "    </tr>\n",
              "    <tr>\n",
              "      <th>2020-01-02 00:00:00+05:30</th>\n",
              "      <td>12198.549805</td>\n",
              "      <td>12289.900391</td>\n",
              "      <td>12195.250000</td>\n",
              "      <td>12282.200195</td>\n",
              "      <td>12282.200195</td>\n",
              "      <td>407700</td>\n",
              "    </tr>\n",
              "    <tr>\n",
              "      <th>2020-01-03 00:00:00+05:30</th>\n",
              "      <td>12261.099609</td>\n",
              "      <td>12265.599609</td>\n",
              "      <td>12191.349609</td>\n",
              "      <td>12226.650391</td>\n",
              "      <td>12226.650391</td>\n",
              "      <td>428800</td>\n",
              "    </tr>\n",
              "    <tr>\n",
              "      <th>2020-01-06 00:00:00+05:30</th>\n",
              "      <td>12170.599609</td>\n",
              "      <td>12179.099609</td>\n",
              "      <td>11974.200195</td>\n",
              "      <td>11993.049805</td>\n",
              "      <td>11993.049805</td>\n",
              "      <td>396500</td>\n",
              "    </tr>\n",
              "    <tr>\n",
              "      <th>2020-01-07 00:00:00+05:30</th>\n",
              "      <td>12079.099609</td>\n",
              "      <td>12152.150391</td>\n",
              "      <td>12005.349609</td>\n",
              "      <td>12052.950195</td>\n",
              "      <td>12052.950195</td>\n",
              "      <td>447800</td>\n",
              "    </tr>\n",
              "  </tbody>\n",
              "</table>\n",
              "</div>\n",
              "      <button class=\"colab-df-convert\" onclick=\"convertToInteractive('df-aa325f64-ba4e-4937-b76f-4c0cb4778b48')\"\n",
              "              title=\"Convert this dataframe to an interactive table.\"\n",
              "              style=\"display:none;\">\n",
              "        \n",
              "  <svg xmlns=\"http://www.w3.org/2000/svg\" height=\"24px\"viewBox=\"0 0 24 24\"\n",
              "       width=\"24px\">\n",
              "    <path d=\"M0 0h24v24H0V0z\" fill=\"none\"/>\n",
              "    <path d=\"M18.56 5.44l.94 2.06.94-2.06 2.06-.94-2.06-.94-.94-2.06-.94 2.06-2.06.94zm-11 1L8.5 8.5l.94-2.06 2.06-.94-2.06-.94L8.5 2.5l-.94 2.06-2.06.94zm10 10l.94 2.06.94-2.06 2.06-.94-2.06-.94-.94-2.06-.94 2.06-2.06.94z\"/><path d=\"M17.41 7.96l-1.37-1.37c-.4-.4-.92-.59-1.43-.59-.52 0-1.04.2-1.43.59L10.3 9.45l-7.72 7.72c-.78.78-.78 2.05 0 2.83L4 21.41c.39.39.9.59 1.41.59.51 0 1.02-.2 1.41-.59l7.78-7.78 2.81-2.81c.8-.78.8-2.07 0-2.86zM5.41 20L4 18.59l7.72-7.72 1.47 1.35L5.41 20z\"/>\n",
              "  </svg>\n",
              "      </button>\n",
              "      \n",
              "  <style>\n",
              "    .colab-df-container {\n",
              "      display:flex;\n",
              "      flex-wrap:wrap;\n",
              "      gap: 12px;\n",
              "    }\n",
              "\n",
              "    .colab-df-convert {\n",
              "      background-color: #E8F0FE;\n",
              "      border: none;\n",
              "      border-radius: 50%;\n",
              "      cursor: pointer;\n",
              "      display: none;\n",
              "      fill: #1967D2;\n",
              "      height: 32px;\n",
              "      padding: 0 0 0 0;\n",
              "      width: 32px;\n",
              "    }\n",
              "\n",
              "    .colab-df-convert:hover {\n",
              "      background-color: #E2EBFA;\n",
              "      box-shadow: 0px 1px 2px rgba(60, 64, 67, 0.3), 0px 1px 3px 1px rgba(60, 64, 67, 0.15);\n",
              "      fill: #174EA6;\n",
              "    }\n",
              "\n",
              "    [theme=dark] .colab-df-convert {\n",
              "      background-color: #3B4455;\n",
              "      fill: #D2E3FC;\n",
              "    }\n",
              "\n",
              "    [theme=dark] .colab-df-convert:hover {\n",
              "      background-color: #434B5C;\n",
              "      box-shadow: 0px 1px 3px 1px rgba(0, 0, 0, 0.15);\n",
              "      filter: drop-shadow(0px 1px 2px rgba(0, 0, 0, 0.3));\n",
              "      fill: #FFFFFF;\n",
              "    }\n",
              "  </style>\n",
              "\n",
              "      <script>\n",
              "        const buttonEl =\n",
              "          document.querySelector('#df-aa325f64-ba4e-4937-b76f-4c0cb4778b48 button.colab-df-convert');\n",
              "        buttonEl.style.display =\n",
              "          google.colab.kernel.accessAllowed ? 'block' : 'none';\n",
              "\n",
              "        async function convertToInteractive(key) {\n",
              "          const element = document.querySelector('#df-aa325f64-ba4e-4937-b76f-4c0cb4778b48');\n",
              "          const dataTable =\n",
              "            await google.colab.kernel.invokeFunction('convertToInteractive',\n",
              "                                                     [key], {});\n",
              "          if (!dataTable) return;\n",
              "\n",
              "          const docLinkHtml = 'Like what you see? Visit the ' +\n",
              "            '<a target=\"_blank\" href=https://colab.research.google.com/notebooks/data_table.ipynb>data table notebook</a>'\n",
              "            + ' to learn more about interactive tables.';\n",
              "          element.innerHTML = '';\n",
              "          dataTable['output_type'] = 'display_data';\n",
              "          await google.colab.output.renderOutput(dataTable, element);\n",
              "          const docLink = document.createElement('div');\n",
              "          docLink.innerHTML = docLinkHtml;\n",
              "          element.appendChild(docLink);\n",
              "        }\n",
              "      </script>\n",
              "    </div>\n",
              "  </div>\n",
              "  "
            ]
          },
          "metadata": {},
          "execution_count": 4
        }
      ]
    },
    {
      "cell_type": "code",
      "source": [
        "plt.figure(figsize=(15, 8))\n",
        "plt.title('Stock Prices History')\n",
        "plt.plot(stock_data['Close'])\n",
        "plt.xlabel('Date')\n",
        "plt.ylabel('Prices')"
      ],
      "metadata": {
        "colab": {
          "base_uri": "https://localhost:8080/",
          "height": 389
        },
        "id": "8XUpVJMdREOM",
        "outputId": "91b682c0-c267-4ec2-b624-b2f82badfba8"
      },
      "execution_count": 5,
      "outputs": [
        {
          "output_type": "execute_result",
          "data": {
            "text/plain": [
              "Text(0, 0.5, 'Prices')"
            ]
          },
          "metadata": {},
          "execution_count": 5
        },
        {
          "output_type": "display_data",
          "data": {
            "text/plain": [
              "<Figure size 1080x576 with 1 Axes>"
            ],
            "image/png": "[encoded data removed]"
          },
          "metadata": {
            "needs_background": "light"
          }
        }
      ]
    },
    {
      "cell_type": "code",
      "source": [
        "#Preparation of training set\n",
        "close_prices = stock_data['Close']\n",
        "values = close_prices.values\n",
        "training_data_len = math.ceil(len(values)* 0.8)\n",
        "\n",
        "scaler = MinMaxScaler(feature_range=(0,1))\n",
        "scaled_data = scaler.fit_transform(values.reshape(-1,1))\n",
        "train_data = scaled_data[0: training_data_len, :]\n",
        "\n",
        "x_train = []\n",
        "y_train = []\n",
        "\n",
        "for i in range(60, len(train_data)):\n",
        "    x_train.append(train_data[i-60:i, 0])\n",
        "    y_train.append(train_data[i, 0])\n",
        "    \n",
        "x_train, y_train = np.array(x_train), np.array(y_train)\n",
        "x_train = np.reshape(x_train, (x_train.shape[0], x_train.shape[1], 1))"
      ],
      "metadata": {
        "id": "VC5h3GCFR5R5"
      },
      "execution_count": 6,
      "outputs": []
    },
    {
      "cell_type": "code",
      "source": [
        "#Preparation of test set\n",
        "test_data = scaled_data[training_data_len-60: , : ]\n",
        "x_test = []\n",
        "y_test = values[training_data_len:]\n",
        "\n",
        "for i in range(60, len(test_data)):\n",
        "  x_test.append(test_data[i-60:i, 0])\n",
        "\n",
        "x_test = np.array(x_test)\n",
        "x_test = np.reshape(x_test, (x_test.shape[0], x_test.shape[1], 1))"
      ],
      "metadata": {
        "id": "kzcE0wkgLT5W"
      },
      "execution_count": 7,
      "outputs": []
    },
    {
      "cell_type": "code",
      "source": [
        "model = keras.Sequential()\n",
        "model.add(layers.LSTM(100, return_sequences=True, input_shape=(x_train.shape[1], 1)))\n",
        "model.add(layers.LSTM(100, return_sequences=False))\n",
        "model.add(layers.Dense(25))\n",
        "model.add(layers.Dense(1))\n",
        "model.summary()"
      ],
      "metadata": {
        "colab": {
          "base_uri": "https://localhost:8080/"
        },
        "id": "zYDar8zSLXr3",
        "outputId": "e1cdbdd3-4589-4140-f916-0cccc0bacc01"
      },
      "execution_count": 8,
      "outputs": [
        {
          "output_type": "stream",
          "name": "stdout",
          "text": [
            "Model: \"sequential\"\n",
            "_________________________________________________________________\n",
            " Layer (type)                Output Shape              Param #   \n",
            "=================================================================\n",
            " lstm (LSTM)                 (None, 60, 100)           40800     \n",
            "                                                                 \n",
            " lstm_1 (LSTM)               (None, 100)               80400     \n",
            "                                                                 \n",
            " dense (Dense)               (None, 25)                2525      \n",
            "                                                                 \n",
            " dense_1 (Dense)             (None, 1)                 26        \n",
            "                                                                 \n",
            "=================================================================\n",
            "Total params: 123,751\n",
            "Trainable params: 123,751\n",
            "Non-trainable params: 0\n",
            "_________________________________________________________________\n"
          ]
        }
      ]
    },
    {
      "cell_type": "code",
      "source": [
        "model.compile(optimizer='adam', loss='mean_squared_error')\n",
        "model.fit(x_train, y_train, batch_size= 1, epochs=3)"
      ],
      "metadata": {
        "colab": {
          "base_uri": "https://localhost:8080/"
        },
        "id": "ByPuQ6E0La0E",
        "outputId": "1bcd4977-60bc-4bb2-a77c-b4b5107f3b59"
      },
      "execution_count": 9,
      "outputs": [
        {
          "output_type": "stream",
          "name": "stdout",
          "text": [
            "Epoch 1/3\n",
            "537/537 [==============================] - 35s 59ms/step - loss: 0.0062\n",
            "Epoch 2/3\n",
            "537/537 [==============================] - 20s 37ms/step - loss: 0.0015\n",
            "Epoch 3/3\n",
            "537/537 [==============================] - 19s 35ms/step - loss: 0.0017\n"
          ]
        },
        {
          "output_type": "execute_result",
          "data": {
            "text/plain": [
              "<keras.callbacks.History at 0x7f911ccb3280>"
            ]
          },
          "metadata": {},
          "execution_count": 9
        }
      ]
    },
    {
      "cell_type": "code",
      "source": [
        "predictions = model.predict(x_test)\n",
        "predictions = scaler.inverse_transform(predictions)\n",
        "rmse = np.sqrt(np.mean(predictions - y_test)**2)\n",
        "rmse"
      ],
      "metadata": {
        "colab": {
          "base_uri": "https://localhost:8080/"
        },
        "id": "yznJ-DlrLepz",
        "outputId": "cbeab5a2-a516-4ae1-86bd-25e2261cb319"
      },
      "execution_count": 10,
      "outputs": [
        {
          "output_type": "stream",
          "name": "stdout",
          "text": [
            "5/5 [==============================] - 1s 30ms/step\n"
          ]
        },
        {
          "output_type": "execute_result",
          "data": {
            "text/plain": [
              "196.31425650167785"
            ]
          },
          "metadata": {},
          "execution_count": 10
        }
      ]
    },
    {
      "cell_type": "code",
      "source": [
        "data = stock_data.filter(['Close'])\n",
        "train = data[:training_data_len]\n",
        "validation = data[training_data_len:]\n",
        "validation['Predictions'] = predictions\n",
        "plt.figure(figsize=(16,8))\n",
        "plt.title('Model')\n",
        "plt.xlabel('Date')\n",
        "plt.ylabel('Close Price USD ($)')\n",
        "plt.plot(train)\n",
        "plt.plot(validation[['Close', 'Predictions']])\n",
        "plt.legend(['Train', 'Val', 'Predictions'], loc='lower right')\n",
        "plt.show()"
      ],
      "metadata": {
        "colab": {
          "base_uri": "https://localhost:8080/",
          "height": 475
        },
        "id": "T1zLmav8LrMp",
        "outputId": "c4b91052-ebbc-4a40-a457-de5fefe324d6"
      },
      "execution_count": 11,
      "outputs": [
        {
          "output_type": "stream",
          "name": "stderr",
          "text": [
            "<ipython-input-11-d92c50f720f0>:4: SettingWithCopyWarning: \n",
            "A value is trying to be set on a copy of a slice from a DataFrame.\n",
            "Try using .loc[row_indexer,col_indexer] = value instead\n",
            "\n",
            "See the caveats in the documentation: https://pandas.pydata.org/pandas-docs/stable/user_guide/indexing.html#returning-a-view-versus-a-copy\n",
            "  validation['Predictions'] = predictions\n"
          ]
        },
        {
          "output_type": "display_data",
          "data": {
            "text/plain": [
              "<Figure size 1152x576 with 1 Axes>"
            ],
            "image/png": "[encoded data removed]"
          },
          "metadata": {
            "needs_background": "light"
          }
        }
      ]
    },
    {
      "cell_type": "code",
      "source": [
        "from sklearn.neighbors import KNeighborsClassifier\n",
        "from sklearn.metrics import accuracy_score\n",
        "from sklearn.model_selection import train_test_split\n",
        "from pandas_datareader import data as pdr\n",
        "from pandas.plotting import register_matplotlib_converters\n",
        "register_matplotlib_converters()"
      ],
      "metadata": {
        "id": "z5dHFGDsLMn4"
      },
      "execution_count": 65,
      "outputs": []
    },
    {
      "cell_type": "code",
      "source": [
        "stock_data['Open-Close']= stock_data.Open -stock_data.Close\n",
        "stock_data['High-Low']  = stock_data.High - stock_data.Low\n",
        "stock_data =stock_data.dropna()\n",
        "X= stock_data[['Open-Close', 'High-Low']]\n",
        "X.head()"
      ],
      "metadata": {
        "colab": {
          "base_uri": "https://localhost:8080/",
          "height": 206
        },
        "id": "HCP01LPjLWtC",
        "outputId": "1833db33-0f96-4301-daad-8662e641add7"
      },
      "execution_count": 53,
      "outputs": [
        {
          "output_type": "execute_result",
          "data": {
            "text/plain": [
              "   Open-Close    High-Low\n",
              "0   19.650391   56.900391\n",
              "1  -83.650391   94.650391\n",
              "2   34.449219   74.250000\n",
              "3  177.549805  204.899414\n",
              "4   26.149414  146.800781"
            ],
            "text/html": [
              "\n",
              "  <div id=\"df-1260b93b-6196-4fc7-a3dd-9f068157914e\">\n",
              "    <div class=\"colab-df-container\">\n",
              "      <div>\n",
              "<style scoped>\n",
              "    .dataframe tbody tr th:only-of-type {\n",
              "        vertical-align: middle;\n",
              "    }\n",
              "\n",
              "    .dataframe tbody tr th {\n",
              "        vertical-align: top;\n",
              "    }\n",
              "\n",
              "    .dataframe thead th {\n",
              "        text-align: right;\n",
              "    }\n",
              "</style>\n",
              "<table border=\"1\" class=\"dataframe\">\n",
              "  <thead>\n",
              "    <tr style=\"text-align: right;\">\n",
              "      <th></th>\n",
              "      <th>Open-Close</th>\n",
              "      <th>High-Low</th>\n",
              "    </tr>\n",
              "  </thead>\n",
              "  <tbody>\n",
              "    <tr>\n",
              "      <th>0</th>\n",
              "      <td>19.650391</td>\n",
              "      <td>56.900391</td>\n",
              "    </tr>\n",
              "    <tr>\n",
              "      <th>1</th>\n",
              "      <td>-83.650391</td>\n",
              "      <td>94.650391</td>\n",
              "    </tr>\n",
              "    <tr>\n",
              "      <th>2</th>\n",
              "      <td>34.449219</td>\n",
              "      <td>74.250000</td>\n",
              "    </tr>\n",
              "    <tr>\n",
              "      <th>3</th>\n",
              "      <td>177.549805</td>\n",
              "      <td>204.899414</td>\n",
              "    </tr>\n",
              "    <tr>\n",
              "      <th>4</th>\n",
              "      <td>26.149414</td>\n",
              "      <td>146.800781</td>\n",
              "    </tr>\n",
              "  </tbody>\n",
              "</table>\n",
              "</div>\n",
              "      <button class=\"colab-df-convert\" onclick=\"convertToInteractive('df-1260b93b-6196-4fc7-a3dd-9f068157914e')\"\n",
              "              title=\"Convert this dataframe to an interactive table.\"\n",
              "              style=\"display:none;\">\n",
              "        \n",
              "  <svg xmlns=\"http://www.w3.org/2000/svg\" height=\"24px\"viewBox=\"0 0 24 24\"\n",
              "       width=\"24px\">\n",
              "    <path d=\"M0 0h24v24H0V0z\" fill=\"none\"/>\n",
              "    <path d=\"M18.56 5.44l.94 2.06.94-2.06 2.06-.94-2.06-.94-.94-2.06-.94 2.06-2.06.94zm-11 1L8.5 8.5l.94-2.06 2.06-.94-2.06-.94L8.5 2.5l-.94 2.06-2.06.94zm10 10l.94 2.06.94-2.06 2.06-.94-2.06-.94-.94-2.06-.94 2.06-2.06.94z\"/><path d=\"M17.41 7.96l-1.37-1.37c-.4-.4-.92-.59-1.43-.59-.52 0-1.04.2-1.43.59L10.3 9.45l-7.72 7.72c-.78.78-.78 2.05 0 2.83L4 21.41c.39.39.9.59 1.41.59.51 0 1.02-.2 1.41-.59l7.78-7.78 2.81-2.81c.8-.78.8-2.07 0-2.86zM5.41 20L4 18.59l7.72-7.72 1.47 1.35L5.41 20z\"/>\n",
              "  </svg>\n",
              "      </button>\n",
              "      \n",
              "  <style>\n",
              "    .colab-df-container {\n",
              "      display:flex;\n",
              "      flex-wrap:wrap;\n",
              "      gap: 12px;\n",
              "    }\n",
              "\n",
              "    .colab-df-convert {\n",
              "      background-color: #E8F0FE;\n",
              "      border: none;\n",
              "      border-radius: 50%;\n",
              "      cursor: pointer;\n",
              "      display: none;\n",
              "      fill: #1967D2;\n",
              "      height: 32px;\n",
              "      padding: 0 0 0 0;\n",
              "      width: 32px;\n",
              "    }\n",
              "\n",
              "    .colab-df-convert:hover {\n",
              "      background-color: #E2EBFA;\n",
              "      box-shadow: 0px 1px 2px rgba(60, 64, 67, 0.3), 0px 1px 3px 1px rgba(60, 64, 67, 0.15);\n",
              "      fill: #174EA6;\n",
              "    }\n",
              "\n",
              "    [theme=dark] .colab-df-convert {\n",
              "      background-color: #3B4455;\n",
              "      fill: #D2E3FC;\n",
              "    }\n",
              "\n",
              "    [theme=dark] .colab-df-convert:hover {\n",
              "      background-color: #434B5C;\n",
              "      box-shadow: 0px 1px 3px 1px rgba(0, 0, 0, 0.15);\n",
              "      filter: drop-shadow(0px 1px 2px rgba(0, 0, 0, 0.3));\n",
              "      fill: #FFFFFF;\n",
              "    }\n",
              "  </style>\n",
              "\n",
              "      <script>\n",
              "        const buttonEl =\n",
              "          document.querySelector('#df-1260b93b-6196-4fc7-a3dd-9f068157914e button.colab-df-convert');\n",
              "        buttonEl.style.display =\n",
              "          google.colab.kernel.accessAllowed ? 'block' : 'none';\n",
              "\n",
              "        async function convertToInteractive(key) {\n",
              "          const element = document.querySelector('#df-1260b93b-6196-4fc7-a3dd-9f068157914e');\n",
              "          const dataTable =\n",
              "            await google.colab.kernel.invokeFunction('convertToInteractive',\n",
              "                                                     [key], {});\n",
              "          if (!dataTable) return;\n",
              "\n",
              "          const docLinkHtml = 'Like what you see? Visit the ' +\n",
              "            '<a target=\"_blank\" href=https://colab.research.google.com/notebooks/data_table.ipynb>data table notebook</a>'\n",
              "            + ' to learn more about interactive tables.';\n",
              "          element.innerHTML = '';\n",
              "          dataTable['output_type'] = 'display_data';\n",
              "          await google.colab.output.renderOutput(dataTable, element);\n",
              "          const docLink = document.createElement('div');\n",
              "          docLink.innerHTML = docLinkHtml;\n",
              "          element.appendChild(docLink);\n",
              "        }\n",
              "      </script>\n",
              "    </div>\n",
              "  </div>\n",
              "  "
            ]
          },
          "metadata": {},
          "execution_count": 53
        }
      ]
    },
    {
      "cell_type": "code",
      "source": [
        "# Target variable\n",
        "Y= np.where(stock_data['Close'].shift(-1)>stock_data['Close'],1,-1)"
      ],
      "metadata": {
        "id": "g29jbLcCLZO0"
      },
      "execution_count": 54,
      "outputs": []
    },
    {
      "cell_type": "code",
      "source": [
        "# Splitting the dataset\n",
        "split_percentage = 0.7\n",
        "split = int(split_percentage*len(stock_data))\n",
        "\n",
        "X_train = X[:split]\n",
        "Y_train = Y[:split]\n",
        "\n",
        "X_test = X[split:]\n",
        "Y_test = Y[split:]"
      ],
      "metadata": {
        "id": "E15VtIN0Lbes"
      },
      "execution_count": 55,
      "outputs": []
    },
    {
      "cell_type": "code",
      "source": [
        "# Instantiate KNN learning model(k=15)\n",
        "knn = KNeighborsClassifier(n_neighbors=15)\n",
        "\n",
        "# fit the model\n",
        "knn.fit(X_train, Y_train)\n",
        "\n",
        "# Accuracy Score\n",
        "accuracy_train = accuracy_score(Y_train, knn.predict(X_train))\n",
        "accuracy_test = accuracy_score(Y_test, knn.predict(X_test))\n",
        "\n",
        "print ('Train_data Accuracy: %.2f' %accuracy_train)\n",
        "print ('Test_data Accuracy: %.2f' %accuracy_test)"
      ],
      "metadata": {
        "colab": {
          "base_uri": "https://localhost:8080/"
        },
        "id": "LiNjU54XLd_r",
        "outputId": "4a5a7447-2ce5-4d00-f66f-6aeda1bd44a6"
      },
      "execution_count": 56,
      "outputs": [
        {
          "output_type": "stream",
          "name": "stdout",
          "text": [
            "Train_data Accuracy: 0.63\n",
            "Test_data Accuracy: 0.48\n"
          ]
        }
      ]
    },
    {
      "cell_type": "code",
      "source": [
        "# Predicted Signal\n",
        "stock_data['Predicted_Signal'] = knn.predict(X)\n",
        "\n",
        "# SPY Cumulative Returns\n",
        "stock_data['SPY_returns'] = np.log(stock_data['Close']/stock_data['Close'].shift(1))\n",
        "Cumulative_SPY_returns = stock_data[split:]['SPY_returns'].cumsum()*100\n",
        "\n",
        "# Cumulative Strategy Returns \n",
        "stock_data['Startegy_returns'] = stock_data['SPY_returns']* stock_data['Predicted_Signal'].shift(1)\n",
        "Cumulative_Strategy_returns = stock_data[split:]['Startegy_returns'].cumsum()*100\n",
        "\n",
        "# Plot the results to visualize the performance\n",
        "\n",
        "plt.figure(figsize=(10,5))\n",
        "plt.plot(Cumulative_SPY_returns, color='r',label = 'SPY Returns')\n",
        "plt.plot(Cumulative_Strategy_returns, color='g', label = 'Strategy Returns')\n",
        "plt.legend()\n",
        "plt.show()"
      ],
      "metadata": {
        "colab": {
          "base_uri": "https://localhost:8080/",
          "height": 320
        },
        "id": "4Je8s4KrLe4R",
        "outputId": "ae9210eb-83e5-4740-9245-29c48ea0aade"
      },
      "execution_count": 57,
      "outputs": [
        {
          "output_type": "display_data",
          "data": {
            "text/plain": [
              "<Figure size 720x360 with 1 Axes>"
            ],
            "image/png": "[encoded data removed]"
          },
          "metadata": {
            "needs_background": "light"
          }
        }
      ]
    },
    {
      "cell_type": "markdown",
      "source": [
        "Linear Regression"
      ],
      "metadata": {
        "id": "R5DzcXccQy-3"
      }
    },
    {
      "cell_type": "code",
      "source": [
        "stock_data.describe()"
      ],
      "metadata": {
        "colab": {
          "base_uri": "https://localhost:8080/",
          "height": 364
        },
        "id": "oQuivyrYO_3m",
        "outputId": "cd84f727-2389-4454-af2f-d9a28d2d2622"
      },
      "execution_count": 12,
      "outputs": [
        {
          "output_type": "execute_result",
          "data": {
            "text/plain": [
              "               Open          High           Low         Close     Adj Close  \\\n",
              "count    746.000000    746.000000    746.000000    746.000000    746.000000   \n",
              "mean   14808.918361  14892.066618  14697.324584  14798.596445  14798.596445   \n",
              "std     2896.161275   2891.285108   2900.832096   2898.403194   2898.403194   \n",
              "min     7735.149902   8036.950195   7511.100098   7610.250000   7610.250000   \n",
              "25%    12115.925293  12152.787842  12029.949707  12082.924805  12082.924805   \n",
              "50%    15736.949707  15791.575195  15653.975098  15725.050293  15725.050293   \n",
              "75%    17323.312988  17388.462891  17215.762207  17325.200684  17325.200684   \n",
              "max    18871.949219  18887.599609  18778.199219  18812.500000  18812.500000   \n",
              "\n",
              "             Volume  \n",
              "count  7.460000e+02  \n",
              "mean   4.499288e+05  \n",
              "std    2.312172e+05  \n",
              "min    0.000000e+00  \n",
              "25%    2.664500e+05  \n",
              "50%    3.990000e+05  \n",
              "75%    6.070250e+05  \n",
              "max    1.811000e+06  "
            ],
            "text/html": [
              "\n",
              "  <div id=\"df-87247db4-0673-4d35-b33e-1706254be73f\">\n",
              "    <div class=\"colab-df-container\">\n",
              "      <div>\n",
              "<style scoped>\n",
              "    .dataframe tbody tr th:only-of-type {\n",
              "        vertical-align: middle;\n",
              "    }\n",
              "\n",
              "    .dataframe tbody tr th {\n",
              "        vertical-align: top;\n",
              "    }\n",
              "\n",
              "    .dataframe thead th {\n",
              "        text-align: right;\n",
              "    }\n",
              "</style>\n",
              "<table border=\"1\" class=\"dataframe\">\n",
              "  <thead>\n",
              "    <tr style=\"text-align: right;\">\n",
              "      <th></th>\n",
              "      <th>Open</th>\n",
              "      <th>High</th>\n",
              "      <th>Low</th>\n",
              "      <th>Close</th>\n",
              "      <th>Adj Close</th>\n",
              "      <th>Volume</th>\n",
              "    </tr>\n",
              "  </thead>\n",
              "  <tbody>\n",
              "    <tr>\n",
              "      <th>count</th>\n",
              "      <td>746.000000</td>\n",
              "      <td>746.000000</td>\n",
              "      <td>746.000000</td>\n",
              "      <td>746.000000</td>\n",
              "      <td>746.000000</td>\n",
              "      <td>7.460000e+02</td>\n",
              "    </tr>\n",
              "    <tr>\n",
              "      <th>mean</th>\n",
              "      <td>14808.918361</td>\n",
              "      <td>14892.066618</td>\n",
              "      <td>14697.324584</td>\n",
              "      <td>14798.596445</td>\n",
              "      <td>14798.596445</td>\n",
              "      <td>4.499288e+05</td>\n",
              "    </tr>\n",
              "    <tr>\n",
              "      <th>std</th>\n",
              "      <td>2896.161275</td>\n",
              "      <td>2891.285108</td>\n",
              "      <td>2900.832096</td>\n",
              "      <td>2898.403194</td>\n",
              "      <td>2898.403194</td>\n",
              "      <td>2.312172e+05</td>\n",
              "    </tr>\n",
              "    <tr>\n",
              "      <th>min</th>\n",
              "      <td>7735.149902</td>\n",
              "      <td>8036.950195</td>\n",
              "      <td>7511.100098</td>\n",
              "      <td>7610.250000</td>\n",
              "      <td>7610.250000</td>\n",
              "      <td>0.000000e+00</td>\n",
              "    </tr>\n",
              "    <tr>\n",
              "      <th>25%</th>\n",
              "      <td>12115.925293</td>\n",
              "      <td>12152.787842</td>\n",
              "      <td>12029.949707</td>\n",
              "      <td>12082.924805</td>\n",
              "      <td>12082.924805</td>\n",
              "      <td>2.664500e+05</td>\n",
              "    </tr>\n",
              "    <tr>\n",
              "      <th>50%</th>\n",
              "      <td>15736.949707</td>\n",
              "      <td>15791.575195</td>\n",
              "      <td>15653.975098</td>\n",
              "      <td>15725.050293</td>\n",
              "      <td>15725.050293</td>\n",
              "      <td>3.990000e+05</td>\n",
              "    </tr>\n",
              "    <tr>\n",
              "      <th>75%</th>\n",
              "      <td>17323.312988</td>\n",
              "      <td>17388.462891</td>\n",
              "      <td>17215.762207</td>\n",
              "      <td>17325.200684</td>\n",
              "      <td>17325.200684</td>\n",
              "      <td>6.070250e+05</td>\n",
              "    </tr>\n",
              "    <tr>\n",
              "      <th>max</th>\n",
              "      <td>18871.949219</td>\n",
              "      <td>18887.599609</td>\n",
              "      <td>18778.199219</td>\n",
              "      <td>18812.500000</td>\n",
              "      <td>18812.500000</td>\n",
              "      <td>1.811000e+06</td>\n",
              "    </tr>\n",
              "  </tbody>\n",
              "</table>\n",
              "</div>\n",
              "      <button class=\"colab-df-convert\" onclick=\"convertToInteractive('df-87247db4-0673-4d35-b33e-1706254be73f')\"\n",
              "              title=\"Convert this dataframe to an interactive table.\"\n",
              "              style=\"display:none;\">\n",
              "        \n",
              "  <svg xmlns=\"http://www.w3.org/2000/svg\" height=\"24px\"viewBox=\"0 0 24 24\"\n",
              "       width=\"24px\">\n",
              "    <path d=\"M0 0h24v24H0V0z\" fill=\"none\"/>\n",
              "    <path d=\"M18.56 5.44l.94 2.06.94-2.06 2.06-.94-2.06-.94-.94-2.06-.94 2.06-2.06.94zm-11 1L8.5 8.5l.94-2.06 2.06-.94-2.06-.94L8.5 2.5l-.94 2.06-2.06.94zm10 10l.94 2.06.94-2.06 2.06-.94-2.06-.94-.94-2.06-.94 2.06-2.06.94z\"/><path d=\"M17.41 7.96l-1.37-1.37c-.4-.4-.92-.59-1.43-.59-.52 0-1.04.2-1.43.59L10.3 9.45l-7.72 7.72c-.78.78-.78 2.05 0 2.83L4 21.41c.39.39.9.59 1.41.59.51 0 1.02-.2 1.41-.59l7.78-7.78 2.81-2.81c.8-.78.8-2.07 0-2.86zM5.41 20L4 18.59l7.72-7.72 1.47 1.35L5.41 20z\"/>\n",
              "  </svg>\n",
              "      </button>\n",
              "      \n",
              "  <style>\n",
              "    .colab-df-container {\n",
              "      display:flex;\n",
              "      flex-wrap:wrap;\n",
              "      gap: 12px;\n",
              "    }\n",
              "\n",
              "    .colab-df-convert {\n",
              "      background-color: #E8F0FE;\n",
              "      border: none;\n",
              "      border-radius: 50%;\n",
              "      cursor: pointer;\n",
              "      display: none;\n",
              "      fill: #1967D2;\n",
              "      height: 32px;\n",
              "      padding: 0 0 0 0;\n",
              "      width: 32px;\n",
              "    }\n",
              "\n",
              "    .colab-df-convert:hover {\n",
              "      background-color: #E2EBFA;\n",
              "      box-shadow: 0px 1px 2px rgba(60, 64, 67, 0.3), 0px 1px 3px 1px rgba(60, 64, 67, 0.15);\n",
              "      fill: #174EA6;\n",
              "    }\n",
              "\n",
              "    [theme=dark] .colab-df-convert {\n",
              "      background-color: #3B4455;\n",
              "      fill: #D2E3FC;\n",
              "    }\n",
              "\n",
              "    [theme=dark] .colab-df-convert:hover {\n",
              "      background-color: #434B5C;\n",
              "      box-shadow: 0px 1px 3px 1px rgba(0, 0, 0, 0.15);\n",
              "      filter: drop-shadow(0px 1px 2px rgba(0, 0, 0, 0.3));\n",
              "      fill: #FFFFFF;\n",
              "    }\n",
              "  </style>\n",
              "\n",
              "      <script>\n",
              "        const buttonEl =\n",
              "          document.querySelector('#df-87247db4-0673-4d35-b33e-1706254be73f button.colab-df-convert');\n",
              "        buttonEl.style.display =\n",
              "          google.colab.kernel.accessAllowed ? 'block' : 'none';\n",
              "\n",
              "        async function convertToInteractive(key) {\n",
              "          const element = document.querySelector('#df-87247db4-0673-4d35-b33e-1706254be73f');\n",
              "          const dataTable =\n",
              "            await google.colab.kernel.invokeFunction('convertToInteractive',\n",
              "                                                     [key], {});\n",
              "          if (!dataTable) return;\n",
              "\n",
              "          const docLinkHtml = 'Like what you see? Visit the ' +\n",
              "            '<a target=\"_blank\" href=https://colab.research.google.com/notebooks/data_table.ipynb>data table notebook</a>'\n",
              "            + ' to learn more about interactive tables.';\n",
              "          element.innerHTML = '';\n",
              "          dataTable['output_type'] = 'display_data';\n",
              "          await google.colab.output.renderOutput(dataTable, element);\n",
              "          const docLink = document.createElement('div');\n",
              "          docLink.innerHTML = docLinkHtml;\n",
              "          element.appendChild(docLink);\n",
              "        }\n",
              "      </script>\n",
              "    </div>\n",
              "  </div>\n",
              "  "
            ]
          },
          "metadata": {},
          "execution_count": 12
        }
      ]
    },
    {
      "cell_type": "code",
      "source": [
        "x = stock_data[['High','Low','Open','Volume']].values"
      ],
      "metadata": {
        "id": "Q9VfGoDyRUwZ"
      },
      "execution_count": 13,
      "outputs": []
    },
    {
      "cell_type": "code",
      "source": [
        "y = stock_data['Close'].values"
      ],
      "metadata": {
        "id": "i-Llq1TZRkI4"
      },
      "execution_count": 14,
      "outputs": []
    },
    {
      "cell_type": "code",
      "source": [
        "# splitting x and y into training and testing sets\n",
        "x_train, x_test, y_train, y_test = train_test_split(x, y, test_size=0.2, random_state=0)"
      ],
      "metadata": {
        "id": "klvvFuL0RoRK"
      },
      "execution_count": 70,
      "outputs": []
    },
    {
      "cell_type": "code",
      "source": [
        "from sklearn.linear_model import LinearRegression"
      ],
      "metadata": {
        "id": "S5ax6u34SU3B"
      },
      "execution_count": 36,
      "outputs": []
    },
    {
      "cell_type": "code",
      "source": [
        "regressor = LinearRegression()"
      ],
      "metadata": {
        "id": "PxHr-xQ9RrKg"
      },
      "execution_count": 39,
      "outputs": []
    },
    {
      "cell_type": "code",
      "source": [
        "regressor.fit(x_train, y_train)"
      ],
      "metadata": {
        "colab": {
          "base_uri": "https://localhost:8080/"
        },
        "id": "efW7wx3jSW52",
        "outputId": "d68b4aa7-5265-48d1-e882-c1e79d1d580a"
      },
      "execution_count": 40,
      "outputs": [
        {
          "output_type": "execute_result",
          "data": {
            "text/plain": [
              "LinearRegression()"
            ]
          },
          "metadata": {},
          "execution_count": 40
        }
      ]
    },
    {
      "cell_type": "code",
      "source": [
        "# making predictions on the testing set\n",
        "predicted = regressor.predict(x_test)\n",
        "predicted"
      ],
      "metadata": {
        "colab": {
          "base_uri": "https://localhost:8080/"
        },
        "id": "EDzS6AHSSZUG",
        "outputId": "d8ccaeb3-3854-42d2-91f9-4113ff1a63aa"
      },
      "execution_count": 41,
      "outputs": [
        {
          "output_type": "execute_result",
          "data": {
            "text/plain": [
              "array([18565.67931677, 16480.83601682, 10455.27734645, 10660.14634124,\n",
              "       12178.58712618, 11238.5999736 , 14311.63489549, 11190.39550424,\n",
              "       19132.08183179, 10611.94187188, 13395.74997759, 14697.27065039,\n",
              "       14805.73070646, 12395.50723831, 10768.60639731, 18927.21283699,\n",
              "       14986.49746657, 15757.76897638, 15986.74020585, 11648.33796318,\n",
              "       14865.98629316, 18915.16171965, 14347.78824751, 14516.50389028,\n",
              "       17878.76562835, 13130.6253961 , 12166.53600884, 10949.37315742,\n",
              "       15094.95752264, 16999.03406247, 10382.97064241, 13287.28992153,\n",
              "       16263.91590469, 18794.65054625, 18336.7080873 , 17408.77205206,\n",
              "       13552.41450302, 17071.34076652, 16661.60277693, 16685.70501162,\n",
              "       14058.56143133, 18011.3279191 , 13058.31869205, 10298.61282102,\n",
              "       16601.34719023, 17240.05640929, 15601.10445095, 18047.48127112,\n",
              "       15070.85528796, 13311.39215621, 17155.6985879 , 15119.05975732,\n",
              "       14094.71478336, 17276.20976131, 14299.58377815, 19180.28630115,\n",
              "       17577.48769483, 12744.98964119, 14359.83936485, 14998.54858391,\n",
              "       16504.9382515 , 13202.93210014, 11310.90667764, 12467.81394235,\n",
              "       18204.14579655, 15046.75305327, 13359.59662557, 18035.43015378,\n",
              "       13938.05025793, 17300.31199599, 14685.21953305, 14938.29299721,\n",
              "       16384.4270781 , 17131.59635322, 14552.6572423 , 12335.25165161,\n",
              "       17167.74970524, 18903.11060231, 16553.14272087, 18734.39495954,\n",
              "       10503.48181581, 14106.7659007 , 11527.82678978, 13925.99914058,\n",
              "       16770.062833  , 10889.11757072, 12648.58070247, 17252.10752663,\n",
              "       15432.38880818, 16288.01813937, 14649.06618103, 16239.81367001,\n",
              "       10407.07287709, 11106.03768285, 15372.13322147, 12238.84271288,\n",
              "       18758.49719422, 19192.33741849, 16227.76255267, 17348.51646536,\n",
              "       19023.62177572, 13564.46562036, 18469.27037805, 14046.51031399,\n",
              "       18601.83266879, 16046.99579256, 14432.1460689 , 12877.55193194,\n",
              "       19059.77512774, 18770.54831156, 13697.02791111, 15745.71785904,\n",
              "       19204.38853583, 16854.42065439, 17396.72093472, 12359.35388629,\n",
              "       11142.19103487, 10877.06645338, 13431.90332961, 12540.1206464 ,\n",
              "       11756.79801925, 16275.96702203, 12612.42735044, 15890.33126713,\n",
              "       10732.45304529, 13323.44327355, 10865.01533604, 14504.45277294,\n",
              "       14576.75947699, 15552.89998159, 12865.5008146 , 11997.82036607,\n",
              "       11202.44662158, 11057.83321349, 17432.87428674, 10913.2198054 ,\n",
              "       17613.64104685, 17360.5675827 , 15721.61562436, 13889.84578856,\n",
              "       12829.34746258, 15830.07568042, 17541.33434281, 15625.20668563,\n",
              "       11708.59354989, 15793.9223284 , 16348.27372607, 16565.19383821,\n",
              "       18553.62819943, 16360.32484342])"
            ]
          },
          "metadata": {},
          "execution_count": 41
        }
      ]
    },
    {
      "cell_type": "markdown",
      "source": [
        "\n",
        "Using Regression future trend predict"
      ],
      "metadata": {
        "id": "EaPU-SvqS04M"
      }
    },
    {
      "cell_type": "code",
      "source": [
        "from sklearn.preprocessing import MinMaxScaler\n",
        "scaler = MinMaxScaler(feature_range=(0, 1))"
      ],
      "metadata": {
        "id": "HC2n0kbwSads"
      },
      "execution_count": 30,
      "outputs": []
    },
    {
      "cell_type": "code",
      "source": [
        "stock_data.head()"
      ],
      "metadata": {
        "colab": {
          "base_uri": "https://localhost:8080/",
          "height": 357
        },
        "id": "hYcGAkuWT-uO",
        "outputId": "1cf07004-7dd2-4e19-b74d-36c0c4d80406"
      },
      "execution_count": 33,
      "outputs": [
        {
          "output_type": "execute_result",
          "data": {
            "text/plain": [
              "                       Date          Open          High           Low  \\\n",
              "0 2020-01-01 00:00:00+05:30  12202.150391  12222.200195  12165.299805   \n",
              "1 2020-01-02 00:00:00+05:30  12198.549805  12289.900391  12195.250000   \n",
              "2 2020-01-03 00:00:00+05:30  12261.099609  12265.599609  12191.349609   \n",
              "3 2020-01-06 00:00:00+05:30  12170.599609  12179.099609  11974.200195   \n",
              "4 2020-01-07 00:00:00+05:30  12079.099609  12152.150391  12005.349609   \n",
              "\n",
              "          Close     Adj Close  Volume  \n",
              "0  12182.500000  12182.500000  304100  \n",
              "1  12282.200195  12282.200195  407700  \n",
              "2  12226.650391  12226.650391  428800  \n",
              "3  11993.049805  11993.049805  396500  \n",
              "4  12052.950195  12052.950195  447800  "
            ],
            "text/html": [
              "\n",
              "  <div id=\"df-8c81a7a7-b2d6-4b8a-b9d0-8066c87c90da\">\n",
              "    <div class=\"colab-df-container\">\n",
              "      <div>\n",
              "<style scoped>\n",
              "    .dataframe tbody tr th:only-of-type {\n",
              "        vertical-align: middle;\n",
              "    }\n",
              "\n",
              "    .dataframe tbody tr th {\n",
              "        vertical-align: top;\n",
              "    }\n",
              "\n",
              "    .dataframe thead th {\n",
              "        text-align: right;\n",
              "    }\n",
              "</style>\n",
              "<table border=\"1\" class=\"dataframe\">\n",
              "  <thead>\n",
              "    <tr style=\"text-align: right;\">\n",
              "      <th></th>\n",
              "      <th>Date</th>\n",
              "      <th>Open</th>\n",
              "      <th>High</th>\n",
              "      <th>Low</th>\n",
              "      <th>Close</th>\n",
              "      <th>Adj Close</th>\n",
              "      <th>Volume</th>\n",
              "    </tr>\n",
              "  </thead>\n",
              "  <tbody>\n",
              "    <tr>\n",
              "      <th>0</th>\n",
              "      <td>2020-01-01 00:00:00+05:30</td>\n",
              "      <td>12202.150391</td>\n",
              "      <td>12222.200195</td>\n",
              "      <td>12165.299805</td>\n",
              "      <td>12182.500000</td>\n",
              "      <td>12182.500000</td>\n",
              "      <td>304100</td>\n",
              "    </tr>\n",
              "    <tr>\n",
              "      <th>1</th>\n",
              "      <td>2020-01-02 00:00:00+05:30</td>\n",
              "      <td>12198.549805</td>\n",
              "      <td>12289.900391</td>\n",
              "      <td>12195.250000</td>\n",
              "      <td>12282.200195</td>\n",
              "      <td>12282.200195</td>\n",
              "      <td>407700</td>\n",
              "    </tr>\n",
              "    <tr>\n",
              "      <th>2</th>\n",
              "      <td>2020-01-03 00:00:00+05:30</td>\n",
              "      <td>12261.099609</td>\n",
              "      <td>12265.599609</td>\n",
              "      <td>12191.349609</td>\n",
              "      <td>12226.650391</td>\n",
              "      <td>12226.650391</td>\n",
              "      <td>428800</td>\n",
              "    </tr>\n",
              "    <tr>\n",
              "      <th>3</th>\n",
              "      <td>2020-01-06 00:00:00+05:30</td>\n",
              "      <td>12170.599609</td>\n",
              "      <td>12179.099609</td>\n",
              "      <td>11974.200195</td>\n",
              "      <td>11993.049805</td>\n",
              "      <td>11993.049805</td>\n",
              "      <td>396500</td>\n",
              "    </tr>\n",
              "    <tr>\n",
              "      <th>4</th>\n",
              "      <td>2020-01-07 00:00:00+05:30</td>\n",
              "      <td>12079.099609</td>\n",
              "      <td>12152.150391</td>\n",
              "      <td>12005.349609</td>\n",
              "      <td>12052.950195</td>\n",
              "      <td>12052.950195</td>\n",
              "      <td>447800</td>\n",
              "    </tr>\n",
              "  </tbody>\n",
              "</table>\n",
              "</div>\n",
              "      <button class=\"colab-df-convert\" onclick=\"convertToInteractive('df-8c81a7a7-b2d6-4b8a-b9d0-8066c87c90da')\"\n",
              "              title=\"Convert this dataframe to an interactive table.\"\n",
              "              style=\"display:none;\">\n",
              "        \n",
              "  <svg xmlns=\"http://www.w3.org/2000/svg\" height=\"24px\"viewBox=\"0 0 24 24\"\n",
              "       width=\"24px\">\n",
              "    <path d=\"M0 0h24v24H0V0z\" fill=\"none\"/>\n",
              "    <path d=\"M18.56 5.44l.94 2.06.94-2.06 2.06-.94-2.06-.94-.94-2.06-.94 2.06-2.06.94zm-11 1L8.5 8.5l.94-2.06 2.06-.94-2.06-.94L8.5 2.5l-.94 2.06-2.06.94zm10 10l.94 2.06.94-2.06 2.06-.94-2.06-.94-.94-2.06-.94 2.06-2.06.94z\"/><path d=\"M17.41 7.96l-1.37-1.37c-.4-.4-.92-.59-1.43-.59-.52 0-1.04.2-1.43.59L10.3 9.45l-7.72 7.72c-.78.78-.78 2.05 0 2.83L4 21.41c.39.39.9.59 1.41.59.51 0 1.02-.2 1.41-.59l7.78-7.78 2.81-2.81c.8-.78.8-2.07 0-2.86zM5.41 20L4 18.59l7.72-7.72 1.47 1.35L5.41 20z\"/>\n",
              "  </svg>\n",
              "      </button>\n",
              "      \n",
              "  <style>\n",
              "    .colab-df-container {\n",
              "      display:flex;\n",
              "      flex-wrap:wrap;\n",
              "      gap: 12px;\n",
              "    }\n",
              "\n",
              "    .colab-df-convert {\n",
              "      background-color: #E8F0FE;\n",
              "      border: none;\n",
              "      border-radius: 50%;\n",
              "      cursor: pointer;\n",
              "      display: none;\n",
              "      fill: #1967D2;\n",
              "      height: 32px;\n",
              "      padding: 0 0 0 0;\n",
              "      width: 32px;\n",
              "    }\n",
              "\n",
              "    .colab-df-convert:hover {\n",
              "      background-color: #E2EBFA;\n",
              "      box-shadow: 0px 1px 2px rgba(60, 64, 67, 0.3), 0px 1px 3px 1px rgba(60, 64, 67, 0.15);\n",
              "      fill: #174EA6;\n",
              "    }\n",
              "\n",
              "    [theme=dark] .colab-df-convert {\n",
              "      background-color: #3B4455;\n",
              "      fill: #D2E3FC;\n",
              "    }\n",
              "\n",
              "    [theme=dark] .colab-df-convert:hover {\n",
              "      background-color: #434B5C;\n",
              "      box-shadow: 0px 1px 3px 1px rgba(0, 0, 0, 0.15);\n",
              "      filter: drop-shadow(0px 1px 2px rgba(0, 0, 0, 0.3));\n",
              "      fill: #FFFFFF;\n",
              "    }\n",
              "  </style>\n",
              "\n",
              "      <script>\n",
              "        const buttonEl =\n",
              "          document.querySelector('#df-8c81a7a7-b2d6-4b8a-b9d0-8066c87c90da button.colab-df-convert');\n",
              "        buttonEl.style.display =\n",
              "          google.colab.kernel.accessAllowed ? 'block' : 'none';\n",
              "\n",
              "        async function convertToInteractive(key) {\n",
              "          const element = document.querySelector('#df-8c81a7a7-b2d6-4b8a-b9d0-8066c87c90da');\n",
              "          const dataTable =\n",
              "            await google.colab.kernel.invokeFunction('convertToInteractive',\n",
              "                                                     [key], {});\n",
              "          if (!dataTable) return;\n",
              "\n",
              "          const docLinkHtml = 'Like what you see? Visit the ' +\n",
              "            '<a target=\"_blank\" href=https://colab.research.google.com/notebooks/data_table.ipynb>data table notebook</a>'\n",
              "            + ' to learn more about interactive tables.';\n",
              "          element.innerHTML = '';\n",
              "          dataTable['output_type'] = 'display_data';\n",
              "          await google.colab.output.renderOutput(dataTable, element);\n",
              "          const docLink = document.createElement('div');\n",
              "          docLink.innerHTML = docLinkHtml;\n",
              "          element.appendChild(docLink);\n",
              "        }\n",
              "      </script>\n",
              "    </div>\n",
              "  </div>\n",
              "  "
            ]
          },
          "metadata": {},
          "execution_count": 33
        }
      ]
    },
    {
      "cell_type": "code",
      "source": [
        "stock_data = stock_data.reset_index()\n",
        "x = np.array(stock_data.index).reshape(-1, 1)\n",
        "y = stock_data['Close']"
      ],
      "metadata": {
        "id": "MxCzjgMIS6m1"
      },
      "execution_count": 34,
      "outputs": []
    },
    {
      "cell_type": "code",
      "source": [
        "linreg = LinearRegression().fit(x, y)\n",
        "linreg.score(x, y)\n",
        "predictions = linreg.predict(x)"
      ],
      "metadata": {
        "id": "_TXHb4skTJWm"
      },
      "execution_count": 47,
      "outputs": []
    },
    {
      "cell_type": "code",
      "source": [
        "plt.figure(figsize=(15,5))\n",
        "plt.plot(data['Close'])\n",
        "plt.plot(data.index, predictions)"
      ],
      "metadata": {
        "colab": {
          "base_uri": "https://localhost:8080/",
          "height": 254
        },
        "id": "aiuLQvqztz-N",
        "outputId": "512e1d1e-f4b5-4be9-d9ec-746cf85d5fdb"
      },
      "execution_count": 48,
      "outputs": [
        {
          "output_type": "execute_result",
          "data": {
            "text/plain": [
              "[<matplotlib.lines.Line2D at 0x7f91158a3130>]"
            ]
          },
          "metadata": {},
          "execution_count": 48
        },
        {
          "output_type": "display_data",
          "data": {
            "text/plain": [
              "<Figure size 1080x360 with 1 Axes>"
            ],
            "image/png": "[encoded data removed]"
          },
          "metadata": {
            "needs_background": "light"
          }
        }
      ]
    },
    {
      "cell_type": "code",
      "source": [
        "print('R^2:', linreg.score(x, y))"
      ],
      "metadata": {
        "colab": {
          "base_uri": "https://localhost:8080/"
        },
        "id": "olqxQF4Dt1yF",
        "outputId": "3d8b0426-febd-4398-dd7c-b71dcb4d8397"
      },
      "execution_count": 49,
      "outputs": [
        {
          "output_type": "stream",
          "name": "stdout",
          "text": [
            "R^2: 0.7986493308685425\n"
          ]
        }
      ]
    },
    {
      "cell_type": "code",
      "source": [
        "from sklearn.neighbors import KNeighborsClassifier\n",
        "from sklearn.metrics import accuracy_score\n",
        "from sklearn.model_selection import train_test_split\n",
        "from pandas_datareader import data as pdr\n",
        "from pandas.plotting import register_matplotlib_converters\n",
        "register_matplotlib_converters()"
      ],
      "metadata": {
        "id": "Ic7W5iBHiVYI"
      },
      "execution_count": 29,
      "outputs": []
    },
    {
      "cell_type": "code",
      "source": [
        "import pandas as pd\n",
        "import numpy as np\n",
        "import matplotlib.pyplot as plt\n"
      ],
      "metadata": {
        "id": "3GCl8X9At6VL"
      },
      "execution_count": 28,
      "outputs": []
    },
    {
      "cell_type": "markdown",
      "source": [
        "KNN from Scratch"
      ],
      "metadata": {
        "id": "gA_4_j8umyUZ"
      }
    },
    {
      "cell_type": "code",
      "source": [
        "stock_data.head()"
      ],
      "metadata": {
        "colab": {
          "base_uri": "https://localhost:8080/",
          "height": 388
        },
        "id": "I-whk-m9c19s",
        "outputId": "ec2aee5c-3a92-4301-dd7b-e41dafd9ee58"
      },
      "execution_count": 17,
      "outputs": [
        {
          "output_type": "execute_result",
          "data": {
            "text/plain": [
              "                                   Open          High           Low  \\\n",
              "Date                                                                  \n",
              "2020-01-01 00:00:00+05:30  12202.150391  12222.200195  12165.299805   \n",
              "2020-01-02 00:00:00+05:30  12198.549805  12289.900391  12195.250000   \n",
              "2020-01-03 00:00:00+05:30  12261.099609  12265.599609  12191.349609   \n",
              "2020-01-06 00:00:00+05:30  12170.599609  12179.099609  11974.200195   \n",
              "2020-01-07 00:00:00+05:30  12079.099609  12152.150391  12005.349609   \n",
              "\n",
              "                                  Close     Adj Close  Volume  \n",
              "Date                                                           \n",
              "2020-01-01 00:00:00+05:30  12182.500000  12182.500000  304100  \n",
              "2020-01-02 00:00:00+05:30  12282.200195  12282.200195  407700  \n",
              "2020-01-03 00:00:00+05:30  12226.650391  12226.650391  428800  \n",
              "2020-01-06 00:00:00+05:30  11993.049805  11993.049805  396500  \n",
              "2020-01-07 00:00:00+05:30  12052.950195  12052.950195  447800  "
            ],
            "text/html": [
              "\n",
              "  <div id=\"df-e522fb7e-da8d-4107-bc63-1d5dcf36c9d2\">\n",
              "    <div class=\"colab-df-container\">\n",
              "      <div>\n",
              "<style scoped>\n",
              "    .dataframe tbody tr th:only-of-type {\n",
              "        vertical-align: middle;\n",
              "    }\n",
              "\n",
              "    .dataframe tbody tr th {\n",
              "        vertical-align: top;\n",
              "    }\n",
              "\n",
              "    .dataframe thead th {\n",
              "        text-align: right;\n",
              "    }\n",
              "</style>\n",
              "<table border=\"1\" class=\"dataframe\">\n",
              "  <thead>\n",
              "    <tr style=\"text-align: right;\">\n",
              "      <th></th>\n",
              "      <th>Open</th>\n",
              "      <th>High</th>\n",
              "      <th>Low</th>\n",
              "      <th>Close</th>\n",
              "      <th>Adj Close</th>\n",
              "      <th>Volume</th>\n",
              "    </tr>\n",
              "    <tr>\n",
              "      <th>Date</th>\n",
              "      <th></th>\n",
              "      <th></th>\n",
              "      <th></th>\n",
              "      <th></th>\n",
              "      <th></th>\n",
              "      <th></th>\n",
              "    </tr>\n",
              "  </thead>\n",
              "  <tbody>\n",
              "    <tr>\n",
              "      <th>2020-01-01 00:00:00+05:30</th>\n",
              "      <td>12202.150391</td>\n",
              "      <td>12222.200195</td>\n",
              "      <td>12165.299805</td>\n",
              "      <td>12182.500000</td>\n",
              "      <td>12182.500000</td>\n",
              "      <td>304100</td>\n",
              "    </tr>\n",
              "    <tr>\n",
              "      <th>2020-01-02 00:00:00+05:30</th>\n",
              "      <td>12198.549805</td>\n",
              "      <td>12289.900391</td>\n",
              "      <td>12195.250000</td>\n",
              "      <td>12282.200195</td>\n",
              "      <td>12282.200195</td>\n",
              "      <td>407700</td>\n",
              "    </tr>\n",
              "    <tr>\n",
              "      <th>2020-01-03 00:00:00+05:30</th>\n",
              "      <td>12261.099609</td>\n",
              "      <td>12265.599609</td>\n",
              "      <td>12191.349609</td>\n",
              "      <td>12226.650391</td>\n",
              "      <td>12226.650391</td>\n",
              "      <td>428800</td>\n",
              "    </tr>\n",
              "    <tr>\n",
              "      <th>2020-01-06 00:00:00+05:30</th>\n",
              "      <td>12170.599609</td>\n",
              "      <td>12179.099609</td>\n",
              "      <td>11974.200195</td>\n",
              "      <td>11993.049805</td>\n",
              "      <td>11993.049805</td>\n",
              "      <td>396500</td>\n",
              "    </tr>\n",
              "    <tr>\n",
              "      <th>2020-01-07 00:00:00+05:30</th>\n",
              "      <td>12079.099609</td>\n",
              "      <td>12152.150391</td>\n",
              "      <td>12005.349609</td>\n",
              "      <td>12052.950195</td>\n",
              "      <td>12052.950195</td>\n",
              "      <td>447800</td>\n",
              "    </tr>\n",
              "  </tbody>\n",
              "</table>\n",
              "</div>\n",
              "      <button class=\"colab-df-convert\" onclick=\"convertToInteractive('df-e522fb7e-da8d-4107-bc63-1d5dcf36c9d2')\"\n",
              "              title=\"Convert this dataframe to an interactive table.\"\n",
              "              style=\"display:none;\">\n",
              "        \n",
              "  <svg xmlns=\"http://www.w3.org/2000/svg\" height=\"24px\"viewBox=\"0 0 24 24\"\n",
              "       width=\"24px\">\n",
              "    <path d=\"M0 0h24v24H0V0z\" fill=\"none\"/>\n",
              "    <path d=\"M18.56 5.44l.94 2.06.94-2.06 2.06-.94-2.06-.94-.94-2.06-.94 2.06-2.06.94zm-11 1L8.5 8.5l.94-2.06 2.06-.94-2.06-.94L8.5 2.5l-.94 2.06-2.06.94zm10 10l.94 2.06.94-2.06 2.06-.94-2.06-.94-.94-2.06-.94 2.06-2.06.94z\"/><path d=\"M17.41 7.96l-1.37-1.37c-.4-.4-.92-.59-1.43-.59-.52 0-1.04.2-1.43.59L10.3 9.45l-7.72 7.72c-.78.78-.78 2.05 0 2.83L4 21.41c.39.39.9.59 1.41.59.51 0 1.02-.2 1.41-.59l7.78-7.78 2.81-2.81c.8-.78.8-2.07 0-2.86zM5.41 20L4 18.59l7.72-7.72 1.47 1.35L5.41 20z\"/>\n",
              "  </svg>\n",
              "      </button>\n",
              "      \n",
              "  <style>\n",
              "    .colab-df-container {\n",
              "      display:flex;\n",
              "      flex-wrap:wrap;\n",
              "      gap: 12px;\n",
              "    }\n",
              "\n",
              "    .colab-df-convert {\n",
              "      background-color: #E8F0FE;\n",
              "      border: none;\n",
              "      border-radius: 50%;\n",
              "      cursor: pointer;\n",
              "      display: none;\n",
              "      fill: #1967D2;\n",
              "      height: 32px;\n",
              "      padding: 0 0 0 0;\n",
              "      width: 32px;\n",
              "    }\n",
              "\n",
              "    .colab-df-convert:hover {\n",
              "      background-color: #E2EBFA;\n",
              "      box-shadow: 0px 1px 2px rgba(60, 64, 67, 0.3), 0px 1px 3px 1px rgba(60, 64, 67, 0.15);\n",
              "      fill: #174EA6;\n",
              "    }\n",
              "\n",
              "    [theme=dark] .colab-df-convert {\n",
              "      background-color: #3B4455;\n",
              "      fill: #D2E3FC;\n",
              "    }\n",
              "\n",
              "    [theme=dark] .colab-df-convert:hover {\n",
              "      background-color: #434B5C;\n",
              "      box-shadow: 0px 1px 3px 1px rgba(0, 0, 0, 0.15);\n",
              "      filter: drop-shadow(0px 1px 2px rgba(0, 0, 0, 0.3));\n",
              "      fill: #FFFFFF;\n",
              "    }\n",
              "  </style>\n",
              "\n",
              "      <script>\n",
              "        const buttonEl =\n",
              "          document.querySelector('#df-e522fb7e-da8d-4107-bc63-1d5dcf36c9d2 button.colab-df-convert');\n",
              "        buttonEl.style.display =\n",
              "          google.colab.kernel.accessAllowed ? 'block' : 'none';\n",
              "\n",
              "        async function convertToInteractive(key) {\n",
              "          const element = document.querySelector('#df-e522fb7e-da8d-4107-bc63-1d5dcf36c9d2');\n",
              "          const dataTable =\n",
              "            await google.colab.kernel.invokeFunction('convertToInteractive',\n",
              "                                                     [key], {});\n",
              "          if (!dataTable) return;\n",
              "\n",
              "          const docLinkHtml = 'Like what you see? Visit the ' +\n",
              "            '<a target=\"_blank\" href=https://colab.research.google.com/notebooks/data_table.ipynb>data table notebook</a>'\n",
              "            + ' to learn more about interactive tables.';\n",
              "          element.innerHTML = '';\n",
              "          dataTable['output_type'] = 'display_data';\n",
              "          await google.colab.output.renderOutput(dataTable, element);\n",
              "          const docLink = document.createElement('div');\n",
              "          docLink.innerHTML = docLinkHtml;\n",
              "          element.appendChild(docLink);\n",
              "        }\n",
              "      </script>\n",
              "    </div>\n",
              "  </div>\n",
              "  "
            ]
          },
          "metadata": {},
          "execution_count": 17
        }
      ]
    },
    {
      "cell_type": "code",
      "source": [
        "plt.figure(figsize=(15, 8))\n",
        "plt.title('Stock Prices History')\n",
        "plt.plot(stock_data['Close'])\n",
        "plt.xlabel('Date')\n",
        "plt.ylabel('Prices')"
      ],
      "metadata": {
        "colab": {
          "base_uri": "https://localhost:8080/",
          "height": 389
        },
        "id": "pUV8SIlec8aS",
        "outputId": "cce459f7-852d-47cb-e121-08a42e3e0fd4"
      },
      "execution_count": 18,
      "outputs": [
        {
          "output_type": "execute_result",
          "data": {
            "text/plain": [
              "Text(0, 0.5, 'Prices')"
            ]
          },
          "metadata": {},
          "execution_count": 18
        },
        {
          "output_type": "display_data",
          "data": {
            "text/plain": [
              "<Figure size 1080x576 with 1 Axes>"
            ],
            "image/png": "[encoded data removed]"
          },
          "metadata": {
            "needs_background": "light"
          }
        }
      ]
    },
    {
      "cell_type": "code",
      "source": [
        "x = stock_data[['High','Low','Open','Volume']].values"
      ],
      "metadata": {
        "id": "C4t6mvWjeY57"
      },
      "execution_count": 19,
      "outputs": []
    },
    {
      "cell_type": "code",
      "source": [
        "y = stock_data['Close'].values"
      ],
      "metadata": {
        "id": "2F_rVVheedup"
      },
      "execution_count": 20,
      "outputs": []
    },
    {
      "cell_type": "code",
      "source": [
        "import numpy as np\n",
        "import pandas as pd\n",
        "import statistics as stats\n",
        "\n",
        "def distance (x,p): \n",
        "        l=list(map(lambda x,y:(x-y)**2,x,p))\n",
        "        return np.sqrt(sum(l))\n",
        "\n",
        "class KNearestNeighbours : \n",
        "    def __init__(self,n_neighbors=5): \n",
        "        self.n_neighbors=n_neighbors \n",
        "        self.feature_names=[]\n",
        "        self.target_names=[]\n",
        "        self.num_sampels=0\n",
        "        self.x=0\n",
        "        self.y=0\n",
        "        self.predicted_values=0\n",
        "\n",
        "    def fit(self,x,y): \n",
        "        if isinstance(x,pd.DataFrame): \n",
        "            self.feature_names = [f for f in x.columns]\n",
        "            self.x=np.array(x)\n",
        "        else:\n",
        "            self.x=x \n",
        "        if isinstance(y,pd.DataFrame): \n",
        "            self.target_names = [f for f in y.columns]\n",
        "            self.y=np.array(y).reshape(-1)\n",
        "        else:\n",
        "            self.y=y \n",
        "        \n",
        "        if np.isnan(self.x).any() or np.isnan(self.y).any(): \n",
        "            raise Exception(\"model does not accept NAN values\")\n",
        "            \n",
        "        self.num_sampels=len(x)\n",
        "        \n",
        "    def predict(self, p): \n",
        "        predict_values=[] \n",
        "        p=np.array(p) \n",
        "        for i in p: \n",
        "            p = dict(sorted(self._predictions(i).items())[0:self.n_neighbors]) \n",
        "            predict_values.append(stats.mode(p.values())) \n",
        "        self.predicted_values=predict_values\n",
        "        return predict_values\n",
        "\n",
        "    def _predictions(self,p):\n",
        "        d=dict()\n",
        "        for x,y in zip(self.x,self.y):\n",
        "            dis=distance(x,p)\n",
        "            d.update({dis:y})\n",
        "        return d"
      ],
      "metadata": {
        "id": "UbDp7bFwfF2l"
      },
      "execution_count": 21,
      "outputs": []
    },
    {
      "cell_type": "code",
      "source": [
        "knnn=KNearestNeighbours()\n",
        "knnn.fit(X_train, Y_train)"
      ],
      "metadata": {
        "id": "7-T9a8njmiFg"
      },
      "execution_count": 62,
      "outputs": []
    },
    {
      "cell_type": "code",
      "source": [
        "accuracy_train = accuracy_score(Y_train, knnn.predict(X_train))\n",
        "accuracy_test = accuracy_score(Y_test, knnn.predict(X_test))\n",
        "\n",
        "print ('Train_data Accuracy: %.2f' %accuracy_train)\n",
        "print ('Test_data Accuracy: %.2f' %accuracy_test)"
      ],
      "metadata": {
        "colab": {
          "base_uri": "https://localhost:8080/"
        },
        "id": "DXgU-tMxmq0t",
        "outputId": "10b4c72c-ae91-4e80-c0a9-49b29f91ed38"
      },
      "execution_count": 63,
      "outputs": [
        {
          "output_type": "stream",
          "name": "stdout",
          "text": [
            "Train_data Accuracy: 0.69\n",
            "Test_data Accuracy: 0.47\n"
          ]
        }
      ]
    },
    {
      "cell_type": "code",
      "source": [
        "# Predicted Signal\n",
        "stock_data['Predicted_Signal'] = knnn.predict(X)\n",
        "\n",
        "# Nifty Cumulative Returns\n",
        "stock_data['Nifty_returns'] = np.log(stock_data['Close']/stock_data['Close'].shift(1))\n",
        "Cumulative_SPY_returns = stock_data[split:]['Nifty_returns'].cumsum()*100\n",
        "\n",
        "# Cumulative Strategy Returns \n",
        "stock_data['Startegy_returns'] = stock_data['Nifty_returns']* stock_data['Predicted_Signal'].shift(1)\n",
        "Cumulative_Strategy_returns = stock_data[split:]['Startegy_returns'].cumsum()*100\n",
        "\n",
        "# Plot the results to visualize the performance\n",
        "\n",
        "plt.figure(figsize=(10,5))\n",
        "plt.plot(Cumulative_SPY_returns, color='r',label = 'Nifty Returns')\n",
        "plt.plot(Cumulative_Strategy_returns, color='g', label = 'Strategy Returns')\n",
        "plt.legend()\n",
        "plt.show()"
      ],
      "metadata": {
        "colab": {
          "base_uri": "https://localhost:8080/",
          "height": 320
        },
        "id": "v2MmJYOHmtAL",
        "outputId": "07811551-ae59-4ce6-b494-472814a81265"
      },
      "execution_count": 66,
      "outputs": [
        {
          "output_type": "display_data",
          "data": {
            "text/plain": [
              "<Figure size 720x360 with 1 Axes>"
            ],
            "image/png": "[encoded data removed]"
          },
          "metadata": {
            "needs_background": "light"
          }
        }
      ]
    },
    {
      "cell_type": "markdown",
      "source": [
        "Indian Stock Market before Covid 19 and after Covid 19\n"
      ],
      "metadata": {
        "id": "_o42pHrUqQMY"
      }
    },
    {
      "cell_type": "code",
      "source": [
        "Beforecovid = yf.download('^NSEI', start='2016-01-01', end='2020-02-01')\n",
        "Beforecovid.head()"
      ],
      "metadata": {
        "id": "yhes2zKpoIyx",
        "colab": {
          "base_uri": "https://localhost:8080/",
          "height": 405
        },
        "outputId": "08750c68-cfbe-498f-bb2d-b176044d2870"
      },
      "execution_count": 24,
      "outputs": [
        {
          "output_type": "stream",
          "name": "stdout",
          "text": [
            "\r[*********************100%***********************]  1 of 1 completed\n"
          ]
        },
        {
          "output_type": "execute_result",
          "data": {
            "text/plain": [
              "                                  Open         High          Low        Close  \\\n",
              "Date                                                                            \n",
              "2016-01-04 00:00:00+05:30  7924.549805  7937.549805  7781.100098  7791.299805   \n",
              "2016-01-05 00:00:00+05:30  7828.399902  7831.200195  7763.250000  7784.649902   \n",
              "2016-01-06 00:00:00+05:30  7788.049805  7800.950195  7721.200195  7741.000000   \n",
              "2016-01-07 00:00:00+05:30  7673.350098  7674.950195  7556.600098  7568.299805   \n",
              "2016-01-08 00:00:00+05:30  7611.649902  7634.100098  7581.049805  7601.350098   \n",
              "\n",
              "                             Adj Close  Volume  \n",
              "Date                                            \n",
              "2016-01-04 00:00:00+05:30  7791.299805  134700  \n",
              "2016-01-05 00:00:00+05:30  7784.649902  145200  \n",
              "2016-01-06 00:00:00+05:30  7741.000000  147100  \n",
              "2016-01-07 00:00:00+05:30  7568.299805  188900  \n",
              "2016-01-08 00:00:00+05:30  7601.350098  157400  "
            ],
            "text/html": [
              "\n",
              "  <div id=\"df-e6c32168-a892-4978-b79a-969e34a05761\">\n",
              "    <div class=\"colab-df-container\">\n",
              "      <div>\n",
              "<style scoped>\n",
              "    .dataframe tbody tr th:only-of-type {\n",
              "        vertical-align: middle;\n",
              "    }\n",
              "\n",
              "    .dataframe tbody tr th {\n",
              "        vertical-align: top;\n",
              "    }\n",
              "\n",
              "    .dataframe thead th {\n",
              "        text-align: right;\n",
              "    }\n",
              "</style>\n",
              "<table border=\"1\" class=\"dataframe\">\n",
              "  <thead>\n",
              "    <tr style=\"text-align: right;\">\n",
              "      <th></th>\n",
              "      <th>Open</th>\n",
              "      <th>High</th>\n",
              "      <th>Low</th>\n",
              "      <th>Close</th>\n",
              "      <th>Adj Close</th>\n",
              "      <th>Volume</th>\n",
              "    </tr>\n",
              "    <tr>\n",
              "      <th>Date</th>\n",
              "      <th></th>\n",
              "      <th></th>\n",
              "      <th></th>\n",
              "      <th></th>\n",
              "      <th></th>\n",
              "      <th></th>\n",
              "    </tr>\n",
              "  </thead>\n",
              "  <tbody>\n",
              "    <tr>\n",
              "      <th>2016-01-04 00:00:00+05:30</th>\n",
              "      <td>7924.549805</td>\n",
              "      <td>7937.549805</td>\n",
              "      <td>7781.100098</td>\n",
              "      <td>7791.299805</td>\n",
              "      <td>7791.299805</td>\n",
              "      <td>134700</td>\n",
              "    </tr>\n",
              "    <tr>\n",
              "      <th>2016-01-05 00:00:00+05:30</th>\n",
              "      <td>7828.399902</td>\n",
              "      <td>7831.200195</td>\n",
              "      <td>7763.250000</td>\n",
              "      <td>7784.649902</td>\n",
              "      <td>7784.649902</td>\n",
              "      <td>145200</td>\n",
              "    </tr>\n",
              "    <tr>\n",
              "      <th>2016-01-06 00:00:00+05:30</th>\n",
              "      <td>7788.049805</td>\n",
              "      <td>7800.950195</td>\n",
              "      <td>7721.200195</td>\n",
              "      <td>7741.000000</td>\n",
              "      <td>7741.000000</td>\n",
              "      <td>147100</td>\n",
              "    </tr>\n",
              "    <tr>\n",
              "      <th>2016-01-07 00:00:00+05:30</th>\n",
              "      <td>7673.350098</td>\n",
              "      <td>7674.950195</td>\n",
              "      <td>7556.600098</td>\n",
              "      <td>7568.299805</td>\n",
              "      <td>7568.299805</td>\n",
              "      <td>188900</td>\n",
              "    </tr>\n",
              "    <tr>\n",
              "      <th>2016-01-08 00:00:00+05:30</th>\n",
              "      <td>7611.649902</td>\n",
              "      <td>7634.100098</td>\n",
              "      <td>7581.049805</td>\n",
              "      <td>7601.350098</td>\n",
              "      <td>7601.350098</td>\n",
              "      <td>157400</td>\n",
              "    </tr>\n",
              "  </tbody>\n",
              "</table>\n",
              "</div>\n",
              "      <button class=\"colab-df-convert\" onclick=\"convertToInteractive('df-e6c32168-a892-4978-b79a-969e34a05761')\"\n",
              "              title=\"Convert this dataframe to an interactive table.\"\n",
              "              style=\"display:none;\">\n",
              "        \n",
              "  <svg xmlns=\"http://www.w3.org/2000/svg\" height=\"24px\"viewBox=\"0 0 24 24\"\n",
              "       width=\"24px\">\n",
              "    <path d=\"M0 0h24v24H0V0z\" fill=\"none\"/>\n",
              "    <path d=\"M18.56 5.44l.94 2.06.94-2.06 2.06-.94-2.06-.94-.94-2.06-.94 2.06-2.06.94zm-11 1L8.5 8.5l.94-2.06 2.06-.94-2.06-.94L8.5 2.5l-.94 2.06-2.06.94zm10 10l.94 2.06.94-2.06 2.06-.94-2.06-.94-.94-2.06-.94 2.06-2.06.94z\"/><path d=\"M17.41 7.96l-1.37-1.37c-.4-.4-.92-.59-1.43-.59-.52 0-1.04.2-1.43.59L10.3 9.45l-7.72 7.72c-.78.78-.78 2.05 0 2.83L4 21.41c.39.39.9.59 1.41.59.51 0 1.02-.2 1.41-.59l7.78-7.78 2.81-2.81c.8-.78.8-2.07 0-2.86zM5.41 20L4 18.59l7.72-7.72 1.47 1.35L5.41 20z\"/>\n",
              "  </svg>\n",
              "      </button>\n",
              "      \n",
              "  <style>\n",
              "    .colab-df-container {\n",
              "      display:flex;\n",
              "      flex-wrap:wrap;\n",
              "      gap: 12px;\n",
              "    }\n",
              "\n",
              "    .colab-df-convert {\n",
              "      background-color: #E8F0FE;\n",
              "      border: none;\n",
              "      border-radius: 50%;\n",
              "      cursor: pointer;\n",
              "      display: none;\n",
              "      fill: #1967D2;\n",
              "      height: 32px;\n",
              "      padding: 0 0 0 0;\n",
              "      width: 32px;\n",
              "    }\n",
              "\n",
              "    .colab-df-convert:hover {\n",
              "      background-color: #E2EBFA;\n",
              "      box-shadow: 0px 1px 2px rgba(60, 64, 67, 0.3), 0px 1px 3px 1px rgba(60, 64, 67, 0.15);\n",
              "      fill: #174EA6;\n",
              "    }\n",
              "\n",
              "    [theme=dark] .colab-df-convert {\n",
              "      background-color: #3B4455;\n",
              "      fill: #D2E3FC;\n",
              "    }\n",
              "\n",
              "    [theme=dark] .colab-df-convert:hover {\n",
              "      background-color: #434B5C;\n",
              "      box-shadow: 0px 1px 3px 1px rgba(0, 0, 0, 0.15);\n",
              "      filter: drop-shadow(0px 1px 2px rgba(0, 0, 0, 0.3));\n",
              "      fill: #FFFFFF;\n",
              "    }\n",
              "  </style>\n",
              "\n",
              "      <script>\n",
              "        const buttonEl =\n",
              "          document.querySelector('#df-e6c32168-a892-4978-b79a-969e34a05761 button.colab-df-convert');\n",
              "        buttonEl.style.display =\n",
              "          google.colab.kernel.accessAllowed ? 'block' : 'none';\n",
              "\n",
              "        async function convertToInteractive(key) {\n",
              "          const element = document.querySelector('#df-e6c32168-a892-4978-b79a-969e34a05761');\n",
              "          const dataTable =\n",
              "            await google.colab.kernel.invokeFunction('convertToInteractive',\n",
              "                                                     [key], {});\n",
              "          if (!dataTable) return;\n",
              "\n",
              "          const docLinkHtml = 'Like what you see? Visit the ' +\n",
              "            '<a target=\"_blank\" href=https://colab.research.google.com/notebooks/data_table.ipynb>data table notebook</a>'\n",
              "            + ' to learn more about interactive tables.';\n",
              "          element.innerHTML = '';\n",
              "          dataTable['output_type'] = 'display_data';\n",
              "          await google.colab.output.renderOutput(dataTable, element);\n",
              "          const docLink = document.createElement('div');\n",
              "          docLink.innerHTML = docLinkHtml;\n",
              "          element.appendChild(docLink);\n",
              "        }\n",
              "      </script>\n",
              "    </div>\n",
              "  </div>\n",
              "  "
            ]
          },
          "metadata": {},
          "execution_count": 24
        }
      ]
    },
    {
      "cell_type": "code",
      "source": [
        "Aftercovid = yf.download('^NSEI', start='2020-02-01', end='2020-08-01')\n",
        "Aftercovid.head()"
      ],
      "metadata": {
        "colab": {
          "base_uri": "https://localhost:8080/",
          "height": 405
        },
        "id": "AUgQDrZyqsHs",
        "outputId": "0b1860c9-1cea-4748-affe-3a437930ae6f"
      },
      "execution_count": 25,
      "outputs": [
        {
          "output_type": "stream",
          "name": "stdout",
          "text": [
            "\r[*********************100%***********************]  1 of 1 completed\n"
          ]
        },
        {
          "output_type": "execute_result",
          "data": {
            "text/plain": [
              "                                   Open          High           Low  \\\n",
              "Date                                                                  \n",
              "2020-02-03 00:00:00+05:30  11627.450195  11749.849609  11614.500000   \n",
              "2020-02-04 00:00:00+05:30  11786.250000  11986.150391  11783.400391   \n",
              "2020-02-05 00:00:00+05:30  12005.849609  12098.150391  11953.349609   \n",
              "2020-02-06 00:00:00+05:30  12120.000000  12160.599609  12084.650391   \n",
              "2020-02-07 00:00:00+05:30  12151.150391  12154.700195  12073.950195   \n",
              "\n",
              "                                  Close     Adj Close  Volume  \n",
              "Date                                                           \n",
              "2020-02-03 00:00:00+05:30  11707.900391  11707.900391  669800  \n",
              "2020-02-04 00:00:00+05:30  11979.650391  11979.650391  560400  \n",
              "2020-02-05 00:00:00+05:30  12089.150391  12089.150391  758000  \n",
              "2020-02-06 00:00:00+05:30  12137.950195  12137.950195  565100  \n",
              "2020-02-07 00:00:00+05:30  12098.349609  12098.349609  473500  "
            ],
            "text/html": [
              "\n",
              "  <div id=\"df-9c469cbb-15b5-4481-8af8-86b57e4ffd9c\">\n",
              "    <div class=\"colab-df-container\">\n",
              "      <div>\n",
              "<style scoped>\n",
              "    .dataframe tbody tr th:only-of-type {\n",
              "        vertical-align: middle;\n",
              "    }\n",
              "\n",
              "    .dataframe tbody tr th {\n",
              "        vertical-align: top;\n",
              "    }\n",
              "\n",
              "    .dataframe thead th {\n",
              "        text-align: right;\n",
              "    }\n",
              "</style>\n",
              "<table border=\"1\" class=\"dataframe\">\n",
              "  <thead>\n",
              "    <tr style=\"text-align: right;\">\n",
              "      <th></th>\n",
              "      <th>Open</th>\n",
              "      <th>High</th>\n",
              "      <th>Low</th>\n",
              "      <th>Close</th>\n",
              "      <th>Adj Close</th>\n",
              "      <th>Volume</th>\n",
              "    </tr>\n",
              "    <tr>\n",
              "      <th>Date</th>\n",
              "      <th></th>\n",
              "      <th></th>\n",
              "      <th></th>\n",
              "      <th></th>\n",
              "      <th></th>\n",
              "      <th></th>\n",
              "    </tr>\n",
              "  </thead>\n",
              "  <tbody>\n",
              "    <tr>\n",
              "      <th>2020-02-03 00:00:00+05:30</th>\n",
              "      <td>11627.450195</td>\n",
              "      <td>11749.849609</td>\n",
              "      <td>11614.500000</td>\n",
              "      <td>11707.900391</td>\n",
              "      <td>11707.900391</td>\n",
              "      <td>669800</td>\n",
              "    </tr>\n",
              "    <tr>\n",
              "      <th>2020-02-04 00:00:00+05:30</th>\n",
              "      <td>11786.250000</td>\n",
              "      <td>11986.150391</td>\n",
              "      <td>11783.400391</td>\n",
              "      <td>11979.650391</td>\n",
              "      <td>11979.650391</td>\n",
              "      <td>560400</td>\n",
              "    </tr>\n",
              "    <tr>\n",
              "      <th>2020-02-05 00:00:00+05:30</th>\n",
              "      <td>12005.849609</td>\n",
              "      <td>12098.150391</td>\n",
              "      <td>11953.349609</td>\n",
              "      <td>12089.150391</td>\n",
              "      <td>12089.150391</td>\n",
              "      <td>758000</td>\n",
              "    </tr>\n",
              "    <tr>\n",
              "      <th>2020-02-06 00:00:00+05:30</th>\n",
              "      <td>12120.000000</td>\n",
              "      <td>12160.599609</td>\n",
              "      <td>12084.650391</td>\n",
              "      <td>12137.950195</td>\n",
              "      <td>12137.950195</td>\n",
              "      <td>565100</td>\n",
              "    </tr>\n",
              "    <tr>\n",
              "      <th>2020-02-07 00:00:00+05:30</th>\n",
              "      <td>12151.150391</td>\n",
              "      <td>12154.700195</td>\n",
              "      <td>12073.950195</td>\n",
              "      <td>12098.349609</td>\n",
              "      <td>12098.349609</td>\n",
              "      <td>473500</td>\n",
              "    </tr>\n",
              "  </tbody>\n",
              "</table>\n",
              "</div>\n",
              "      <button class=\"colab-df-convert\" onclick=\"convertToInteractive('df-9c469cbb-15b5-4481-8af8-86b57e4ffd9c')\"\n",
              "              title=\"Convert this dataframe to an interactive table.\"\n",
              "              style=\"display:none;\">\n",
              "        \n",
              "  <svg xmlns=\"http://www.w3.org/2000/svg\" height=\"24px\"viewBox=\"0 0 24 24\"\n",
              "       width=\"24px\">\n",
              "    <path d=\"M0 0h24v24H0V0z\" fill=\"none\"/>\n",
              "    <path d=\"M18.56 5.44l.94 2.06.94-2.06 2.06-.94-2.06-.94-.94-2.06-.94 2.06-2.06.94zm-11 1L8.5 8.5l.94-2.06 2.06-.94-2.06-.94L8.5 2.5l-.94 2.06-2.06.94zm10 10l.94 2.06.94-2.06 2.06-.94-2.06-.94-.94-2.06-.94 2.06-2.06.94z\"/><path d=\"M17.41 7.96l-1.37-1.37c-.4-.4-.92-.59-1.43-.59-.52 0-1.04.2-1.43.59L10.3 9.45l-7.72 7.72c-.78.78-.78 2.05 0 2.83L4 21.41c.39.39.9.59 1.41.59.51 0 1.02-.2 1.41-.59l7.78-7.78 2.81-2.81c.8-.78.8-2.07 0-2.86zM5.41 20L4 18.59l7.72-7.72 1.47 1.35L5.41 20z\"/>\n",
              "  </svg>\n",
              "      </button>\n",
              "      \n",
              "  <style>\n",
              "    .colab-df-container {\n",
              "      display:flex;\n",
              "      flex-wrap:wrap;\n",
              "      gap: 12px;\n",
              "    }\n",
              "\n",
              "    .colab-df-convert {\n",
              "      background-color: #E8F0FE;\n",
              "      border: none;\n",
              "      border-radius: 50%;\n",
              "      cursor: pointer;\n",
              "      display: none;\n",
              "      fill: #1967D2;\n",
              "      height: 32px;\n",
              "      padding: 0 0 0 0;\n",
              "      width: 32px;\n",
              "    }\n",
              "\n",
              "    .colab-df-convert:hover {\n",
              "      background-color: #E2EBFA;\n",
              "      box-shadow: 0px 1px 2px rgba(60, 64, 67, 0.3), 0px 1px 3px 1px rgba(60, 64, 67, 0.15);\n",
              "      fill: #174EA6;\n",
              "    }\n",
              "\n",
              "    [theme=dark] .colab-df-convert {\n",
              "      background-color: #3B4455;\n",
              "      fill: #D2E3FC;\n",
              "    }\n",
              "\n",
              "    [theme=dark] .colab-df-convert:hover {\n",
              "      background-color: #434B5C;\n",
              "      box-shadow: 0px 1px 3px 1px rgba(0, 0, 0, 0.15);\n",
              "      filter: drop-shadow(0px 1px 2px rgba(0, 0, 0, 0.3));\n",
              "      fill: #FFFFFF;\n",
              "    }\n",
              "  </style>\n",
              "\n",
              "      <script>\n",
              "        const buttonEl =\n",
              "          document.querySelector('#df-9c469cbb-15b5-4481-8af8-86b57e4ffd9c button.colab-df-convert');\n",
              "        buttonEl.style.display =\n",
              "          google.colab.kernel.accessAllowed ? 'block' : 'none';\n",
              "\n",
              "        async function convertToInteractive(key) {\n",
              "          const element = document.querySelector('#df-9c469cbb-15b5-4481-8af8-86b57e4ffd9c');\n",
              "          const dataTable =\n",
              "            await google.colab.kernel.invokeFunction('convertToInteractive',\n",
              "                                                     [key], {});\n",
              "          if (!dataTable) return;\n",
              "\n",
              "          const docLinkHtml = 'Like what you see? Visit the ' +\n",
              "            '<a target=\"_blank\" href=https://colab.research.google.com/notebooks/data_table.ipynb>data table notebook</a>'\n",
              "            + ' to learn more about interactive tables.';\n",
              "          element.innerHTML = '';\n",
              "          dataTable['output_type'] = 'display_data';\n",
              "          await google.colab.output.renderOutput(dataTable, element);\n",
              "          const docLink = document.createElement('div');\n",
              "          docLink.innerHTML = docLinkHtml;\n",
              "          element.appendChild(docLink);\n",
              "        }\n",
              "      </script>\n",
              "    </div>\n",
              "  </div>\n",
              "  "
            ]
          },
          "metadata": {},
          "execution_count": 25
        }
      ]
    },
    {
      "cell_type": "code",
      "source": [
        "plt.figure(figsize=(12, 5))\n",
        "plt.title('Before Covid 19')\n",
        "plt.plot(Beforecovid['Close'])\n",
        "plt.xlabel('Date')\n",
        "plt.ylabel('Prices')\n",
        "\n",
        "plt.figure(figsize=(12, 5))\n",
        "plt.title('Covid 19 Impact')\n",
        "plt.plot(Aftercovid['Close'])\n",
        "plt.xlabel('Date')\n",
        "plt.ylabel('Prices')\n"
      ],
      "metadata": {
        "colab": {
          "base_uri": "https://localhost:8080/",
          "height": 618
        },
        "id": "KZ8fJZLUsuIv",
        "outputId": "433b1db7-8942-44e6-b6d7-77d7d0420f16"
      },
      "execution_count": 26,
      "outputs": [
        {
          "output_type": "execute_result",
          "data": {
            "text/plain": [
              "Text(0, 0.5, 'Prices')"
            ]
          },
          "metadata": {},
          "execution_count": 26
        },
        {
          "output_type": "display_data",
          "data": {
            "text/plain": [
              "<Figure size 864x360 with 1 Axes>"
            ],
            "image/png": "[encoded data removed]"
          },
          "metadata": {
            "needs_background": "light"
          }
        },
        {
          "output_type": "display_data",
          "data": {
            "text/plain": [
              "<Figure size 864x360 with 1 Axes>"
            ],
            "image/png": "[encoded data removed]"
          },
          "metadata": {
            "needs_background": "light"
          }
        }
      ]
    },
    {
      "cell_type": "code",
      "source": [],
      "metadata": {
        "id": "U2ExMyPRs-cg"
      },
      "execution_count": null,
      "outputs": []
    }
  ]
}